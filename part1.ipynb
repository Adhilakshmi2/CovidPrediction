{
  "nbformat": 4,
  "nbformat_minor": 0,
  "metadata": {
    "colab": {
      "name": "Untitled",
      "provenance": [],
      "collapsed_sections": []
    },
    "kernelspec": {
      "name": "python3",
      "display_name": "Python 3"
    }
  },
  "cells": [
    {
      "cell_type": "markdown",
      "metadata": {
        "id": "zgRFaGnS7P48",
        "colab_type": "text"
      },
      "source": [
        "python Library"
      ]
    },
    {
      "cell_type": "code",
      "metadata": {
        "id": "kKa7pBS57GIK",
        "colab_type": "code",
        "colab": {}
      },
      "source": [
        "import os\n",
        "import numpy as np\n",
        "import pandas as pd\n",
        "import matplotlib.pyplot as plt\n",
        "import seaborn as sbn\n",
        "import warnings\n",
        "warnings.filterwarnings('ignore', category = RuntimeWarning)\n",
        "warnings.filterwarnings('ignore', category = UserWarning)\n",
        "\n",
        "# Importing Normalisation library\n",
        "from sklearn.preprocessing import MinMaxScaler\n",
        "\n",
        "# Importing Keras libraries and Packages\n",
        "from keras.models import Sequential\n",
        "from keras.layers import Dense\n",
        "from keras.layers import LSTM\n",
        "from keras.layers import Dropout\n",
        "\n",
        "# Importing Metrics libraries\n",
        "import math\n",
        "from sklearn.metrics import mean_squared_error"
      ],
      "execution_count": 479,
      "outputs": []
    },
    {
      "cell_type": "markdown",
      "metadata": {
        "id": "Sw63vVoC7b1T",
        "colab_type": "text"
      },
      "source": [
        "Data Loading"
      ]
    },
    {
      "cell_type": "code",
      "metadata": {
        "id": "4AhFRX2Oetfm",
        "colab_type": "code",
        "colab": {
          "base_uri": "https://localhost:8080/",
          "height": 212
        },
        "outputId": "0f913826-3a79-4801-93d1-4549f3e4de8f"
      },
      "source": [
        "data=pd.read_excel('drive/My Drive/541/Train_dataset.xlsx')\n",
        "data.head()"
      ],
      "execution_count": 480,
      "outputs": [
        {
          "output_type": "execute_result",
          "data": {
            "text/html": [
              "<div>\n",
              "<style scoped>\n",
              "    .dataframe tbody tr th:only-of-type {\n",
              "        vertical-align: middle;\n",
              "    }\n",
              "\n",
              "    .dataframe tbody tr th {\n",
              "        vertical-align: top;\n",
              "    }\n",
              "\n",
              "    .dataframe thead th {\n",
              "        text-align: right;\n",
              "    }\n",
              "</style>\n",
              "<table border=\"1\" class=\"dataframe\">\n",
              "  <thead>\n",
              "    <tr style=\"text-align: right;\">\n",
              "      <th></th>\n",
              "      <th>City</th>\n",
              "      <th>State</th>\n",
              "      <th>Type</th>\n",
              "      <th>Population [2011]</th>\n",
              "      <th>Popuation [2001]</th>\n",
              "      <th>Sex Ratio</th>\n",
              "      <th>Median Age</th>\n",
              "      <th>Avg Temp</th>\n",
              "      <th>SWM</th>\n",
              "      <th>Toilets Avl</th>\n",
              "      <th>Water Purity</th>\n",
              "      <th>H Index</th>\n",
              "      <th>Female Population</th>\n",
              "      <th># of hospitals</th>\n",
              "      <th>Foreign Visitors</th>\n",
              "      <th>Covid Cases</th>\n",
              "    </tr>\n",
              "  </thead>\n",
              "  <tbody>\n",
              "    <tr>\n",
              "      <th>0</th>\n",
              "      <td>Mumbai</td>\n",
              "      <td>Maharashtra</td>\n",
              "      <td>M.C</td>\n",
              "      <td>12442373.0</td>\n",
              "      <td>11978450.0</td>\n",
              "      <td>878.0</td>\n",
              "      <td>23.0</td>\n",
              "      <td>32.0</td>\n",
              "      <td>MEDIUM</td>\n",
              "      <td>219.0</td>\n",
              "      <td>150.0</td>\n",
              "      <td>0.700440</td>\n",
              "      <td>10924403.0</td>\n",
              "      <td>159.0</td>\n",
              "      <td>4408916.0</td>\n",
              "      <td>163115</td>\n",
              "    </tr>\n",
              "    <tr>\n",
              "      <th>1</th>\n",
              "      <td>Delhi</td>\n",
              "      <td>Delhi</td>\n",
              "      <td>M.C</td>\n",
              "      <td>11007835.0</td>\n",
              "      <td>9879172.0</td>\n",
              "      <td>858.0</td>\n",
              "      <td>27.0</td>\n",
              "      <td>30.0</td>\n",
              "      <td>MEDIUM</td>\n",
              "      <td>215.0</td>\n",
              "      <td>196.0</td>\n",
              "      <td>0.920018</td>\n",
              "      <td>9444722.0</td>\n",
              "      <td>148.0</td>\n",
              "      <td>2379169.0</td>\n",
              "      <td>80188</td>\n",
              "    </tr>\n",
              "    <tr>\n",
              "      <th>2</th>\n",
              "      <td>Bangalore</td>\n",
              "      <td>Karnataka</td>\n",
              "      <td>MPUA</td>\n",
              "      <td>8436675.0</td>\n",
              "      <td>4301326.0</td>\n",
              "      <td>936.0</td>\n",
              "      <td>28.0</td>\n",
              "      <td>37.0</td>\n",
              "      <td>HIGH</td>\n",
              "      <td>212.0</td>\n",
              "      <td>102.0</td>\n",
              "      <td>0.097085</td>\n",
              "      <td>7896728.0</td>\n",
              "      <td>123.0</td>\n",
              "      <td>636502.0</td>\n",
              "      <td>141000</td>\n",
              "    </tr>\n",
              "    <tr>\n",
              "      <th>3</th>\n",
              "      <td>Hyderabad</td>\n",
              "      <td>Telangana</td>\n",
              "      <td>MPUA</td>\n",
              "      <td>6809970.0</td>\n",
              "      <td>3637483.0</td>\n",
              "      <td>930.0</td>\n",
              "      <td>23.0</td>\n",
              "      <td>31.0</td>\n",
              "      <td>MEDIUM</td>\n",
              "      <td>217.0</td>\n",
              "      <td>118.0</td>\n",
              "      <td>0.827744</td>\n",
              "      <td>6333272.0</td>\n",
              "      <td>110.0</td>\n",
              "      <td>126078.0</td>\n",
              "      <td>55123</td>\n",
              "    </tr>\n",
              "    <tr>\n",
              "      <th>4</th>\n",
              "      <td>Ahmedabad</td>\n",
              "      <td>Gujarat</td>\n",
              "      <td>MPUA</td>\n",
              "      <td>5570585.0</td>\n",
              "      <td>3520085.0</td>\n",
              "      <td>852.0</td>\n",
              "      <td>29.0</td>\n",
              "      <td>25.0</td>\n",
              "      <td>LOW</td>\n",
              "      <td>227.0</td>\n",
              "      <td>109.0</td>\n",
              "      <td>0.847941</td>\n",
              "      <td>4746138.0</td>\n",
              "      <td>73.0</td>\n",
              "      <td>284973.0</td>\n",
              "      <td>33204</td>\n",
              "    </tr>\n",
              "  </tbody>\n",
              "</table>\n",
              "</div>"
            ],
            "text/plain": [
              "        City        State  Type  ...  # of hospitals  Foreign Visitors  Covid Cases\n",
              "0     Mumbai  Maharashtra   M.C  ...           159.0         4408916.0       163115\n",
              "1      Delhi        Delhi   M.C  ...           148.0         2379169.0        80188\n",
              "2  Bangalore    Karnataka  MPUA  ...           123.0          636502.0       141000\n",
              "3  Hyderabad    Telangana  MPUA  ...           110.0          126078.0        55123\n",
              "4  Ahmedabad      Gujarat  MPUA  ...            73.0          284973.0        33204\n",
              "\n",
              "[5 rows x 16 columns]"
            ]
          },
          "metadata": {
            "tags": []
          },
          "execution_count": 480
        }
      ]
    },
    {
      "cell_type": "code",
      "metadata": {
        "id": "_2fj15effBKN",
        "colab_type": "code",
        "colab": {
          "base_uri": "https://localhost:8080/",
          "height": 301
        },
        "outputId": "afcbca74-028c-4842-f88c-58f53b184bbc"
      },
      "source": [
        "data.describe()"
      ],
      "execution_count": 481,
      "outputs": [
        {
          "output_type": "execute_result",
          "data": {
            "text/html": [
              "<div>\n",
              "<style scoped>\n",
              "    .dataframe tbody tr th:only-of-type {\n",
              "        vertical-align: middle;\n",
              "    }\n",
              "\n",
              "    .dataframe tbody tr th {\n",
              "        vertical-align: top;\n",
              "    }\n",
              "\n",
              "    .dataframe thead th {\n",
              "        text-align: right;\n",
              "    }\n",
              "</style>\n",
              "<table border=\"1\" class=\"dataframe\">\n",
              "  <thead>\n",
              "    <tr style=\"text-align: right;\">\n",
              "      <th></th>\n",
              "      <th>Population [2011]</th>\n",
              "      <th>Popuation [2001]</th>\n",
              "      <th>Sex Ratio</th>\n",
              "      <th>Median Age</th>\n",
              "      <th>Avg Temp</th>\n",
              "      <th>Toilets Avl</th>\n",
              "      <th>Water Purity</th>\n",
              "      <th>H Index</th>\n",
              "      <th>Female Population</th>\n",
              "      <th># of hospitals</th>\n",
              "      <th>Foreign Visitors</th>\n",
              "      <th>Covid Cases</th>\n",
              "    </tr>\n",
              "  </thead>\n",
              "  <tbody>\n",
              "    <tr>\n",
              "      <th>count</th>\n",
              "      <td>7.390000e+02</td>\n",
              "      <td>2.950000e+02</td>\n",
              "      <td>777.000000</td>\n",
              "      <td>769.000000</td>\n",
              "      <td>770.000000</td>\n",
              "      <td>761.000000</td>\n",
              "      <td>629.000000</td>\n",
              "      <td>647.000000</td>\n",
              "      <td>6.460000e+02</td>\n",
              "      <td>772.000000</td>\n",
              "      <td>6.970000e+02</td>\n",
              "      <td>787.00000</td>\n",
              "    </tr>\n",
              "    <tr>\n",
              "      <th>mean</th>\n",
              "      <td>3.102834e+05</td>\n",
              "      <td>5.320451e+05</td>\n",
              "      <td>905.712999</td>\n",
              "      <td>26.183355</td>\n",
              "      <td>30.941558</td>\n",
              "      <td>96.086728</td>\n",
              "      <td>150.373609</td>\n",
              "      <td>0.497069</td>\n",
              "      <td>2.910011e+05</td>\n",
              "      <td>41.849741</td>\n",
              "      <td>1.457945e+06</td>\n",
              "      <td>6615.64676</td>\n",
              "    </tr>\n",
              "    <tr>\n",
              "      <th>std</th>\n",
              "      <td>8.874849e+05</td>\n",
              "      <td>1.067831e+06</td>\n",
              "      <td>37.018542</td>\n",
              "      <td>2.113063</td>\n",
              "      <td>6.968289</td>\n",
              "      <td>30.532991</td>\n",
              "      <td>29.063767</td>\n",
              "      <td>0.293421</td>\n",
              "      <td>8.354348e+05</td>\n",
              "      <td>29.086939</td>\n",
              "      <td>1.664151e+06</td>\n",
              "      <td>15108.10276</td>\n",
              "    </tr>\n",
              "    <tr>\n",
              "      <th>min</th>\n",
              "      <td>3.677600e+04</td>\n",
              "      <td>2.935400e+04</td>\n",
              "      <td>818.000000</td>\n",
              "      <td>23.000000</td>\n",
              "      <td>5.000000</td>\n",
              "      <td>50.000000</td>\n",
              "      <td>100.000000</td>\n",
              "      <td>0.003074</td>\n",
              "      <td>3.091300e+04</td>\n",
              "      <td>10.000000</td>\n",
              "      <td>7.980000e+02</td>\n",
              "      <td>334.00000</td>\n",
              "    </tr>\n",
              "    <tr>\n",
              "      <th>25%</th>\n",
              "      <td>5.255000e+04</td>\n",
              "      <td>1.694320e+05</td>\n",
              "      <td>877.000000</td>\n",
              "      <td>24.000000</td>\n",
              "      <td>28.000000</td>\n",
              "      <td>70.000000</td>\n",
              "      <td>125.000000</td>\n",
              "      <td>0.238586</td>\n",
              "      <td>4.514450e+04</td>\n",
              "      <td>18.000000</td>\n",
              "      <td>2.378540e+05</td>\n",
              "      <td>2270.00000</td>\n",
              "    </tr>\n",
              "    <tr>\n",
              "      <th>50%</th>\n",
              "      <td>7.910600e+04</td>\n",
              "      <td>2.366000e+05</td>\n",
              "      <td>906.000000</td>\n",
              "      <td>26.000000</td>\n",
              "      <td>31.000000</td>\n",
              "      <td>92.000000</td>\n",
              "      <td>150.000000</td>\n",
              "      <td>0.507004</td>\n",
              "      <td>8.306750e+04</td>\n",
              "      <td>28.000000</td>\n",
              "      <td>6.365020e+05</td>\n",
              "      <td>2582.00000</td>\n",
              "    </tr>\n",
              "    <tr>\n",
              "      <th>75%</th>\n",
              "      <td>2.374765e+05</td>\n",
              "      <td>4.745850e+05</td>\n",
              "      <td>928.000000</td>\n",
              "      <td>28.000000</td>\n",
              "      <td>36.000000</td>\n",
              "      <td>119.000000</td>\n",
              "      <td>176.000000</td>\n",
              "      <td>0.752517</td>\n",
              "      <td>2.206772e+05</td>\n",
              "      <td>67.000000</td>\n",
              "      <td>3.104060e+06</td>\n",
              "      <td>8761.00000</td>\n",
              "    </tr>\n",
              "    <tr>\n",
              "      <th>max</th>\n",
              "      <td>1.244237e+07</td>\n",
              "      <td>1.197845e+07</td>\n",
              "      <td>1042.000000</td>\n",
              "      <td>32.000000</td>\n",
              "      <td>40.000000</td>\n",
              "      <td>227.000000</td>\n",
              "      <td>200.000000</td>\n",
              "      <td>0.999774</td>\n",
              "      <td>1.092440e+07</td>\n",
              "      <td>159.000000</td>\n",
              "      <td>4.684707e+06</td>\n",
              "      <td>218502.00000</td>\n",
              "    </tr>\n",
              "  </tbody>\n",
              "</table>\n",
              "</div>"
            ],
            "text/plain": [
              "       Population [2011]  Popuation [2001]  ...  Foreign Visitors   Covid Cases\n",
              "count       7.390000e+02      2.950000e+02  ...      6.970000e+02     787.00000\n",
              "mean        3.102834e+05      5.320451e+05  ...      1.457945e+06    6615.64676\n",
              "std         8.874849e+05      1.067831e+06  ...      1.664151e+06   15108.10276\n",
              "min         3.677600e+04      2.935400e+04  ...      7.980000e+02     334.00000\n",
              "25%         5.255000e+04      1.694320e+05  ...      2.378540e+05    2270.00000\n",
              "50%         7.910600e+04      2.366000e+05  ...      6.365020e+05    2582.00000\n",
              "75%         2.374765e+05      4.745850e+05  ...      3.104060e+06    8761.00000\n",
              "max         1.244237e+07      1.197845e+07  ...      4.684707e+06  218502.00000\n",
              "\n",
              "[8 rows x 12 columns]"
            ]
          },
          "metadata": {
            "tags": []
          },
          "execution_count": 481
        }
      ]
    },
    {
      "cell_type": "markdown",
      "metadata": {
        "id": "d0bfafKC7iZz",
        "colab_type": "text"
      },
      "source": [
        "Finding Null Values"
      ]
    },
    {
      "cell_type": "code",
      "metadata": {
        "id": "X6UfDIDlfG-5",
        "colab_type": "code",
        "colab": {
          "base_uri": "https://localhost:8080/",
          "height": 302
        },
        "outputId": "13b82396-40ce-4fb6-b79b-975f40e3c8d5"
      },
      "source": [
        "data.isna().sum()"
      ],
      "execution_count": 482,
      "outputs": [
        {
          "output_type": "execute_result",
          "data": {
            "text/plain": [
              "City                   0\n",
              "State                  0\n",
              "Type                   0\n",
              "Population [2011]     48\n",
              "Popuation [2001]     492\n",
              "Sex Ratio             10\n",
              "Median Age            18\n",
              "Avg Temp              17\n",
              "SWM                    4\n",
              "Toilets Avl           26\n",
              "Water Purity         158\n",
              "H Index              140\n",
              "Female Population    141\n",
              "# of hospitals        15\n",
              "Foreign Visitors      90\n",
              "Covid Cases            0\n",
              "dtype: int64"
            ]
          },
          "metadata": {
            "tags": []
          },
          "execution_count": 482
        }
      ]
    },
    {
      "cell_type": "markdown",
      "metadata": {
        "id": "HPi_HPuJ7nKx",
        "colab_type": "text"
      },
      "source": [
        "Filling Null Values"
      ]
    },
    {
      "cell_type": "code",
      "metadata": {
        "id": "7hlEtghXfMav",
        "colab_type": "code",
        "colab": {}
      },
      "source": [
        "data['Population [2011]']=data['Population [2011]'].fillna(0)\n",
        "data['Popuation [2001]']=data['Popuation [2001]'].fillna(0)\n",
        "data['Sex Ratio']=data['Sex Ratio'].fillna(0)\n",
        "data['Median Age']=data['Median Age'].fillna(0)\n",
        "data['Avg Temp']=data['Avg Temp'].fillna(0)\n",
        "data['Toilets Avl']=data['Toilets Avl'].fillna(0)\n",
        "data['Water Purity']=data['Water Purity'].fillna(0)\n",
        "data['H Index']=data['H Index'].fillna(0)\n",
        "data['Female Population']=data['Female Population'].fillna(0)\n",
        "data['# of hospitals']=data['# of hospitals'].fillna(0)\n",
        "data['Foreign Visitors']=data['Foreign Visitors'].fillna(0)\n",
        "data['SWM']=data['SWM'].fillna(\"ZERO\")\n"
      ],
      "execution_count": 483,
      "outputs": []
    },
    {
      "cell_type": "code",
      "metadata": {
        "id": "7Tt_Zv38j5cv",
        "colab_type": "code",
        "colab": {
          "base_uri": "https://localhost:8080/",
          "height": 302
        },
        "outputId": "94855ff0-594c-4ea5-c162-ee6a4577cbbb"
      },
      "source": [
        "data.dtypes"
      ],
      "execution_count": 484,
      "outputs": [
        {
          "output_type": "execute_result",
          "data": {
            "text/plain": [
              "City                  object\n",
              "State                 object\n",
              "Type                  object\n",
              "Population [2011]    float64\n",
              "Popuation [2001]     float64\n",
              "Sex Ratio            float64\n",
              "Median Age           float64\n",
              "Avg Temp             float64\n",
              "SWM                   object\n",
              "Toilets Avl          float64\n",
              "Water Purity         float64\n",
              "H Index              float64\n",
              "Female Population    float64\n",
              "# of hospitals       float64\n",
              "Foreign Visitors     float64\n",
              "Covid Cases            int64\n",
              "dtype: object"
            ]
          },
          "metadata": {
            "tags": []
          },
          "execution_count": 484
        }
      ]
    },
    {
      "cell_type": "markdown",
      "metadata": {
        "id": "gec7CpM67s3X",
        "colab_type": "text"
      },
      "source": [
        "Converting Categorical to Numerical"
      ]
    },
    {
      "cell_type": "code",
      "metadata": {
        "id": "2SxG_n2VizqJ",
        "colab_type": "code",
        "colab": {
          "base_uri": "https://localhost:8080/",
          "height": 212
        },
        "outputId": "2857aa5f-b310-491e-b5a3-12686fddfd02"
      },
      "source": [
        "from sklearn import preprocessing \n",
        "label_encoder = preprocessing.LabelEncoder() \n",
        "data['City']= label_encoder.fit_transform(data['City']) \n",
        "data['City'].unique()\n",
        "data['State']= label_encoder.fit_transform(data['State']) \n",
        "data['State'].unique()\n",
        "data['Type']= label_encoder.fit_transform(data['Type']) \n",
        "data['Type'].unique()\n",
        "data['SWM']= label_encoder.fit_transform(data['SWM']) \n",
        "data['SWM'].unique()\n",
        "\n",
        "\n",
        "\n",
        "data.head()"
      ],
      "execution_count": 485,
      "outputs": [
        {
          "output_type": "execute_result",
          "data": {
            "text/html": [
              "<div>\n",
              "<style scoped>\n",
              "    .dataframe tbody tr th:only-of-type {\n",
              "        vertical-align: middle;\n",
              "    }\n",
              "\n",
              "    .dataframe tbody tr th {\n",
              "        vertical-align: top;\n",
              "    }\n",
              "\n",
              "    .dataframe thead th {\n",
              "        text-align: right;\n",
              "    }\n",
              "</style>\n",
              "<table border=\"1\" class=\"dataframe\">\n",
              "  <thead>\n",
              "    <tr style=\"text-align: right;\">\n",
              "      <th></th>\n",
              "      <th>City</th>\n",
              "      <th>State</th>\n",
              "      <th>Type</th>\n",
              "      <th>Population [2011]</th>\n",
              "      <th>Popuation [2001]</th>\n",
              "      <th>Sex Ratio</th>\n",
              "      <th>Median Age</th>\n",
              "      <th>Avg Temp</th>\n",
              "      <th>SWM</th>\n",
              "      <th>Toilets Avl</th>\n",
              "      <th>Water Purity</th>\n",
              "      <th>H Index</th>\n",
              "      <th>Female Population</th>\n",
              "      <th># of hospitals</th>\n",
              "      <th>Foreign Visitors</th>\n",
              "      <th>Covid Cases</th>\n",
              "    </tr>\n",
              "  </thead>\n",
              "  <tbody>\n",
              "    <tr>\n",
              "      <th>0</th>\n",
              "      <td>378</td>\n",
              "      <td>16</td>\n",
              "      <td>10</td>\n",
              "      <td>12442373.0</td>\n",
              "      <td>11978450.0</td>\n",
              "      <td>878.0</td>\n",
              "      <td>23.0</td>\n",
              "      <td>32.0</td>\n",
              "      <td>2</td>\n",
              "      <td>219.0</td>\n",
              "      <td>150.0</td>\n",
              "      <td>0.700440</td>\n",
              "      <td>10924403.0</td>\n",
              "      <td>159.0</td>\n",
              "      <td>4408916.0</td>\n",
              "      <td>163115</td>\n",
              "    </tr>\n",
              "    <tr>\n",
              "      <th>1</th>\n",
              "      <td>135</td>\n",
              "      <td>6</td>\n",
              "      <td>10</td>\n",
              "      <td>11007835.0</td>\n",
              "      <td>9879172.0</td>\n",
              "      <td>858.0</td>\n",
              "      <td>27.0</td>\n",
              "      <td>30.0</td>\n",
              "      <td>2</td>\n",
              "      <td>215.0</td>\n",
              "      <td>196.0</td>\n",
              "      <td>0.920018</td>\n",
              "      <td>9444722.0</td>\n",
              "      <td>148.0</td>\n",
              "      <td>2379169.0</td>\n",
              "      <td>80188</td>\n",
              "    </tr>\n",
              "    <tr>\n",
              "      <th>2</th>\n",
              "      <td>52</td>\n",
              "      <td>13</td>\n",
              "      <td>16</td>\n",
              "      <td>8436675.0</td>\n",
              "      <td>4301326.0</td>\n",
              "      <td>936.0</td>\n",
              "      <td>28.0</td>\n",
              "      <td>37.0</td>\n",
              "      <td>0</td>\n",
              "      <td>212.0</td>\n",
              "      <td>102.0</td>\n",
              "      <td>0.097085</td>\n",
              "      <td>7896728.0</td>\n",
              "      <td>123.0</td>\n",
              "      <td>636502.0</td>\n",
              "      <td>141000</td>\n",
              "    </tr>\n",
              "    <tr>\n",
              "      <th>3</th>\n",
              "      <td>210</td>\n",
              "      <td>28</td>\n",
              "      <td>16</td>\n",
              "      <td>6809970.0</td>\n",
              "      <td>3637483.0</td>\n",
              "      <td>930.0</td>\n",
              "      <td>23.0</td>\n",
              "      <td>31.0</td>\n",
              "      <td>2</td>\n",
              "      <td>217.0</td>\n",
              "      <td>118.0</td>\n",
              "      <td>0.827744</td>\n",
              "      <td>6333272.0</td>\n",
              "      <td>110.0</td>\n",
              "      <td>126078.0</td>\n",
              "      <td>55123</td>\n",
              "    </tr>\n",
              "    <tr>\n",
              "      <th>4</th>\n",
              "      <td>3</td>\n",
              "      <td>8</td>\n",
              "      <td>16</td>\n",
              "      <td>5570585.0</td>\n",
              "      <td>3520085.0</td>\n",
              "      <td>852.0</td>\n",
              "      <td>29.0</td>\n",
              "      <td>25.0</td>\n",
              "      <td>1</td>\n",
              "      <td>227.0</td>\n",
              "      <td>109.0</td>\n",
              "      <td>0.847941</td>\n",
              "      <td>4746138.0</td>\n",
              "      <td>73.0</td>\n",
              "      <td>284973.0</td>\n",
              "      <td>33204</td>\n",
              "    </tr>\n",
              "  </tbody>\n",
              "</table>\n",
              "</div>"
            ],
            "text/plain": [
              "   City  State  Type  ...  # of hospitals  Foreign Visitors  Covid Cases\n",
              "0   378     16    10  ...           159.0         4408916.0       163115\n",
              "1   135      6    10  ...           148.0         2379169.0        80188\n",
              "2    52     13    16  ...           123.0          636502.0       141000\n",
              "3   210     28    16  ...           110.0          126078.0        55123\n",
              "4     3      8    16  ...            73.0          284973.0        33204\n",
              "\n",
              "[5 rows x 16 columns]"
            ]
          },
          "metadata": {
            "tags": []
          },
          "execution_count": 485
        }
      ]
    },
    {
      "cell_type": "markdown",
      "metadata": {
        "id": "l8ZhpF0J70MW",
        "colab_type": "text"
      },
      "source": [
        "Histographs"
      ]
    },
    {
      "cell_type": "code",
      "metadata": {
        "id": "SwSqKpqNlYMI",
        "colab_type": "code",
        "colab": {
          "base_uri": "https://localhost:8080/",
          "height": 1000
        },
        "outputId": "0320e30f-0839-4110-b8fe-bdde3c0c969f"
      },
      "source": [
        "data.hist(bins=300, figsize=(25,20)) \n",
        "plt.show()"
      ],
      "execution_count": 486,
      "outputs": [
        {
          "output_type": "display_data",
          "data": {
            "image/png": "[encoded data removed]",
            "text/plain": [
              "<Figure size 1800x1440 with 16 Axes>"
            ]
          },
          "metadata": {
            "tags": [],
            "needs_background": "light"
          }
        }
      ]
    },
    {
      "cell_type": "markdown",
      "metadata": {
        "id": "Se_3IMfl8ARJ",
        "colab_type": "text"
      },
      "source": [
        ""
      ]
    },
    {
      "cell_type": "markdown",
      "metadata": {
        "id": "jvb_IYR88BYJ",
        "colab_type": "text"
      },
      "source": [
        "Heat Map"
      ]
    },
    {
      "cell_type": "code",
      "metadata": {
        "id": "XpPausBYqILQ",
        "colab_type": "code",
        "colab": {
          "base_uri": "https://localhost:8080/",
          "height": 585
        },
        "outputId": "9808102a-c40d-4bcf-b846-8abd339bf0da"
      },
      "source": [
        "plt.figure(figsize=(16,8))\n",
        "sns.heatmap(data.corr()) #Correlation between columns"
      ],
      "execution_count": 487,
      "outputs": [
        {
          "output_type": "execute_result",
          "data": {
            "text/plain": [
              "<matplotlib.axes._subplots.AxesSubplot at 0x7fed437df4a8>"
            ]
          },
          "metadata": {
            "tags": []
          },
          "execution_count": 487
        },
        {
          "output_type": "display_data",
          "data": {
            "image/png": "[encoded data removed]",
            "text/plain": [
              "<Figure size 1152x576 with 2 Axes>"
            ]
          },
          "metadata": {
            "tags": [],
            "needs_background": "light"
          }
        }
      ]
    },
    {
      "cell_type": "code",
      "metadata": {
        "id": "TnFxEJMitqi9",
        "colab_type": "code",
        "colab": {}
      },
      "source": [
        "training_set = data.iloc[:, 1:2].values"
      ],
      "execution_count": 488,
      "outputs": []
    },
    {
      "cell_type": "code",
      "metadata": {
        "id": "jx3sDmmItxVF",
        "colab_type": "code",
        "colab": {}
      },
      "source": [
        "sc = MinMaxScaler(feature_range= (0,1))"
      ],
      "execution_count": 489,
      "outputs": []
    },
    {
      "cell_type": "markdown",
      "metadata": {
        "id": "YWck6_C48LgV",
        "colab_type": "text"
      },
      "source": [
        "Scaling data"
      ]
    },
    {
      "cell_type": "code",
      "metadata": {
        "id": "8L-AKuk5uSpi",
        "colab_type": "code",
        "colab": {}
      },
      "source": [
        "scaled_training_set = sc.fit_transform(training_set)"
      ],
      "execution_count": 490,
      "outputs": []
    },
    {
      "cell_type": "markdown",
      "metadata": {
        "id": "sz6sks5E8PmJ",
        "colab_type": "text"
      },
      "source": [
        "Splitting the data"
      ]
    },
    {
      "cell_type": "code",
      "metadata": {
        "id": "PuR-IeheuYTe",
        "colab_type": "code",
        "colab": {}
      },
      "source": [
        "x_train, y_train = zip(*[(scaled_training_set[i-16:i, 0]\n",
        "                          ,scaled_training_set[i, 0])\n",
        "                          for i in range(16, 758)])"
      ],
      "execution_count": 491,
      "outputs": []
    },
    {
      "cell_type": "code",
      "metadata": {
        "id": "6QYHMeveuiap",
        "colab_type": "code",
        "colab": {}
      },
      "source": [
        "x_train, y_train = np.array(x_train), np.array(y_train)"
      ],
      "execution_count": 492,
      "outputs": []
    },
    {
      "cell_type": "code",
      "metadata": {
        "id": "r0i93qdkum4V",
        "colab_type": "code",
        "colab": {}
      },
      "source": [
        "x_train = np.reshape(x_train, (x_train.shape[0], x_train.shape[1], 1))"
      ],
      "execution_count": 493,
      "outputs": []
    },
    {
      "cell_type": "code",
      "metadata": {
        "id": "uRs8Y3s6urQH",
        "colab_type": "code",
        "colab": {}
      },
      "source": [
        "INPUT_SHAPE = (x_train.shape[1], 1)\n",
        "BATCH_SIZE = 32"
      ],
      "execution_count": 494,
      "outputs": []
    },
    {
      "cell_type": "markdown",
      "metadata": {
        "id": "75VGypWF8TY0",
        "colab_type": "text"
      },
      "source": [
        "RNN Regressor"
      ]
    },
    {
      "cell_type": "code",
      "metadata": {
        "id": "H5q90lIYuvb0",
        "colab_type": "code",
        "colab": {}
      },
      "source": [
        "rnn_regressor = Sequential()"
      ],
      "execution_count": 495,
      "outputs": []
    },
    {
      "cell_type": "code",
      "metadata": {
        "id": "RzbtxrLKu0Qs",
        "colab_type": "code",
        "colab": {}
      },
      "source": [
        "rnn_regressor.add(LSTM(units = 50, return_sequences = True, input_shape = INPUT_SHAPE))\n",
        "rnn_regressor.add(Dropout(0.2))"
      ],
      "execution_count": 496,
      "outputs": []
    },
    {
      "cell_type": "code",
      "metadata": {
        "id": "AFf9gyPUu4Ow",
        "colab_type": "code",
        "colab": {}
      },
      "source": [
        "rnn_regressor.add(LSTM(units = 50, return_sequences = True))\n",
        "rnn_regressor.add(Dropout(0.2))\n",
        "rnn_regressor.add(LSTM(units = 50, return_sequences = True))\n",
        "rnn_regressor.add(Dropout(0.2))\n",
        "rnn_regressor.add(LSTM(units = 50, return_sequences = True))\n",
        "rnn_regressor.add(Dropout(0.2))\n",
        "rnn_regressor.add(LSTM(units = 50))\n",
        "rnn_regressor.add(Dropout(0.2))"
      ],
      "execution_count": 497,
      "outputs": []
    },
    {
      "cell_type": "code",
      "metadata": {
        "id": "2iCBRSviu95_",
        "colab_type": "code",
        "colab": {}
      },
      "source": [
        "rnn_regressor.add(Dense(units = 1))"
      ],
      "execution_count": 498,
      "outputs": []
    },
    {
      "cell_type": "code",
      "metadata": {
        "id": "HyCkKv5NvBap",
        "colab_type": "code",
        "colab": {}
      },
      "source": [
        "rnn_regressor.compile(optimizer = 'adam', loss = 'mean_squared_error')"
      ],
      "execution_count": 499,
      "outputs": []
    },
    {
      "cell_type": "code",
      "metadata": {
        "id": "jT2fBtcuvF0d",
        "colab_type": "code",
        "colab": {
          "base_uri": "https://localhost:8080/",
          "height": 521
        },
        "outputId": "39f4b551-a12a-4ab0-805f-cdf1874cb7a9"
      },
      "source": [
        "# Summary of RNN model\n",
        "rnn_regressor.summary()"
      ],
      "execution_count": 500,
      "outputs": [
        {
          "output_type": "stream",
          "text": [
            "Model: \"sequential_5\"\n",
            "_________________________________________________________________\n",
            "Layer (type)                 Output Shape              Param #   \n",
            "=================================================================\n",
            "lstm_25 (LSTM)               (None, 16, 50)            10400     \n",
            "_________________________________________________________________\n",
            "dropout_25 (Dropout)         (None, 16, 50)            0         \n",
            "_________________________________________________________________\n",
            "lstm_26 (LSTM)               (None, 16, 50)            20200     \n",
            "_________________________________________________________________\n",
            "dropout_26 (Dropout)         (None, 16, 50)            0         \n",
            "_________________________________________________________________\n",
            "lstm_27 (LSTM)               (None, 16, 50)            20200     \n",
            "_________________________________________________________________\n",
            "dropout_27 (Dropout)         (None, 16, 50)            0         \n",
            "_________________________________________________________________\n",
            "lstm_28 (LSTM)               (None, 16, 50)            20200     \n",
            "_________________________________________________________________\n",
            "dropout_28 (Dropout)         (None, 16, 50)            0         \n",
            "_________________________________________________________________\n",
            "lstm_29 (LSTM)               (None, 50)                20200     \n",
            "_________________________________________________________________\n",
            "dropout_29 (Dropout)         (None, 50)                0         \n",
            "_________________________________________________________________\n",
            "dense_5 (Dense)              (None, 1)                 51        \n",
            "=================================================================\n",
            "Total params: 91,251\n",
            "Trainable params: 91,251\n",
            "Non-trainable params: 0\n",
            "_________________________________________________________________\n"
          ],
          "name": "stdout"
        }
      ]
    },
    {
      "cell_type": "code",
      "metadata": {
        "id": "tH1vBi_WvMm3",
        "colab_type": "code",
        "colab": {
          "base_uri": "https://localhost:8080/",
          "height": 1000
        },
        "outputId": "89e6247e-e41d-45a7-a98b-ffa6889250f2"
      },
      "source": [
        "epochs = 100\n",
        "history = rnn_regressor.fit(\n",
        "    x = x_train,\n",
        "    y = y_train,\n",
        "    epochs = epochs,\n",
        "    batch_size = BATCH_SIZE\n",
        ")"
      ],
      "execution_count": 501,
      "outputs": [
        {
          "output_type": "stream",
          "text": [
            "Epoch 1/100\n",
            "24/24 [==============================] - 1s 44ms/step - loss: 0.1461\n",
            "Epoch 2/100\n",
            "24/24 [==============================] - 1s 44ms/step - loss: 0.1077\n",
            "Epoch 3/100\n",
            "24/24 [==============================] - 1s 46ms/step - loss: 0.1034\n",
            "Epoch 4/100\n",
            "24/24 [==============================] - 1s 45ms/step - loss: 0.1041\n",
            "Epoch 5/100\n",
            "24/24 [==============================] - 1s 44ms/step - loss: 0.1060\n",
            "Epoch 6/100\n",
            "24/24 [==============================] - 1s 43ms/step - loss: 0.1042\n",
            "Epoch 7/100\n",
            "24/24 [==============================] - 1s 42ms/step - loss: 0.1050\n",
            "Epoch 8/100\n",
            "24/24 [==============================] - 1s 43ms/step - loss: 0.1066\n",
            "Epoch 9/100\n",
            "24/24 [==============================] - 1s 45ms/step - loss: 0.1085\n",
            "Epoch 10/100\n",
            "24/24 [==============================] - 1s 44ms/step - loss: 0.1033\n",
            "Epoch 11/100\n",
            "24/24 [==============================] - 1s 50ms/step - loss: 0.1022\n",
            "Epoch 12/100\n",
            "24/24 [==============================] - 1s 57ms/step - loss: 0.1034\n",
            "Epoch 13/100\n",
            "24/24 [==============================] - 1s 53ms/step - loss: 0.1044\n",
            "Epoch 14/100\n",
            "24/24 [==============================] - 1s 53ms/step - loss: 0.1054\n",
            "Epoch 15/100\n",
            "24/24 [==============================] - 1s 60ms/step - loss: 0.1035\n",
            "Epoch 16/100\n",
            "24/24 [==============================] - 1s 52ms/step - loss: 0.1043\n",
            "Epoch 17/100\n",
            "24/24 [==============================] - 1s 54ms/step - loss: 0.1048\n",
            "Epoch 18/100\n",
            "24/24 [==============================] - 1s 51ms/step - loss: 0.1033\n",
            "Epoch 19/100\n",
            "24/24 [==============================] - 1s 44ms/step - loss: 0.1031\n",
            "Epoch 20/100\n",
            "24/24 [==============================] - 1s 44ms/step - loss: 0.1043\n",
            "Epoch 21/100\n",
            "24/24 [==============================] - 1s 44ms/step - loss: 0.1063\n",
            "Epoch 22/100\n",
            "24/24 [==============================] - 1s 44ms/step - loss: 0.1057\n",
            "Epoch 23/100\n",
            "24/24 [==============================] - 1s 46ms/step - loss: 0.1009\n",
            "Epoch 24/100\n",
            "24/24 [==============================] - 1s 43ms/step - loss: 0.1030\n",
            "Epoch 25/100\n",
            "24/24 [==============================] - 1s 42ms/step - loss: 0.1059\n",
            "Epoch 26/100\n",
            "24/24 [==============================] - 1s 42ms/step - loss: 0.1023\n",
            "Epoch 27/100\n",
            "24/24 [==============================] - 1s 41ms/step - loss: 0.1025\n",
            "Epoch 28/100\n",
            "24/24 [==============================] - 1s 43ms/step - loss: 0.1039\n",
            "Epoch 29/100\n",
            "24/24 [==============================] - 1s 43ms/step - loss: 0.1011\n",
            "Epoch 30/100\n",
            "24/24 [==============================] - 1s 43ms/step - loss: 0.1024\n",
            "Epoch 31/100\n",
            "24/24 [==============================] - 1s 42ms/step - loss: 0.1016\n",
            "Epoch 32/100\n",
            "24/24 [==============================] - 1s 56ms/step - loss: 0.1050\n",
            "Epoch 33/100\n",
            "24/24 [==============================] - 1s 54ms/step - loss: 0.1020\n",
            "Epoch 34/100\n",
            "24/24 [==============================] - 2s 68ms/step - loss: 0.1052\n",
            "Epoch 35/100\n",
            "24/24 [==============================] - 2s 68ms/step - loss: 0.1032\n",
            "Epoch 36/100\n",
            "24/24 [==============================] - 1s 51ms/step - loss: 0.1037\n",
            "Epoch 37/100\n",
            "24/24 [==============================] - 1s 42ms/step - loss: 0.1047\n",
            "Epoch 38/100\n",
            "24/24 [==============================] - 1s 41ms/step - loss: 0.1017\n",
            "Epoch 39/100\n",
            "24/24 [==============================] - 1s 41ms/step - loss: 0.1032\n",
            "Epoch 40/100\n",
            "24/24 [==============================] - 1s 42ms/step - loss: 0.1014\n",
            "Epoch 41/100\n",
            "24/24 [==============================] - 1s 41ms/step - loss: 0.1040\n",
            "Epoch 42/100\n",
            "24/24 [==============================] - 1s 42ms/step - loss: 0.1029\n",
            "Epoch 43/100\n",
            "24/24 [==============================] - 1s 41ms/step - loss: 0.1026\n",
            "Epoch 44/100\n",
            "24/24 [==============================] - 1s 41ms/step - loss: 0.1013\n",
            "Epoch 45/100\n",
            "24/24 [==============================] - 1s 42ms/step - loss: 0.1043\n",
            "Epoch 46/100\n",
            "24/24 [==============================] - 1s 40ms/step - loss: 0.1024\n",
            "Epoch 47/100\n",
            "24/24 [==============================] - 1s 40ms/step - loss: 0.1044\n",
            "Epoch 48/100\n",
            "24/24 [==============================] - 1s 42ms/step - loss: 0.1015\n",
            "Epoch 49/100\n",
            "24/24 [==============================] - 1s 43ms/step - loss: 0.1021\n",
            "Epoch 50/100\n",
            "24/24 [==============================] - 1s 43ms/step - loss: 0.1020\n",
            "Epoch 51/100\n",
            "24/24 [==============================] - 1s 41ms/step - loss: 0.1016\n",
            "Epoch 52/100\n",
            "24/24 [==============================] - 1s 41ms/step - loss: 0.1007\n",
            "Epoch 53/100\n",
            "24/24 [==============================] - 1s 42ms/step - loss: 0.1031\n",
            "Epoch 54/100\n",
            "24/24 [==============================] - 1s 43ms/step - loss: 0.1024\n",
            "Epoch 55/100\n",
            "24/24 [==============================] - 1s 44ms/step - loss: 0.1021\n",
            "Epoch 56/100\n",
            "24/24 [==============================] - 1s 41ms/step - loss: 0.1009\n",
            "Epoch 57/100\n",
            "24/24 [==============================] - 1s 43ms/step - loss: 0.1019\n",
            "Epoch 58/100\n",
            "24/24 [==============================] - 1s 44ms/step - loss: 0.1016\n",
            "Epoch 59/100\n",
            "24/24 [==============================] - 1s 43ms/step - loss: 0.1020\n",
            "Epoch 60/100\n",
            "24/24 [==============================] - 1s 43ms/step - loss: 0.1007\n",
            "Epoch 61/100\n",
            "24/24 [==============================] - 1s 42ms/step - loss: 0.1021\n",
            "Epoch 62/100\n",
            "24/24 [==============================] - 1s 44ms/step - loss: 0.1007\n",
            "Epoch 63/100\n",
            "24/24 [==============================] - 1s 44ms/step - loss: 0.1014\n",
            "Epoch 64/100\n",
            "24/24 [==============================] - 1s 42ms/step - loss: 0.1046\n",
            "Epoch 65/100\n",
            "24/24 [==============================] - 1s 42ms/step - loss: 0.1008\n",
            "Epoch 66/100\n",
            "24/24 [==============================] - 1s 43ms/step - loss: 0.1002\n",
            "Epoch 67/100\n",
            "24/24 [==============================] - 1s 44ms/step - loss: 0.1013\n",
            "Epoch 68/100\n",
            "24/24 [==============================] - 1s 45ms/step - loss: 0.1009\n",
            "Epoch 69/100\n",
            "24/24 [==============================] - 1s 44ms/step - loss: 0.1014\n",
            "Epoch 70/100\n",
            "24/24 [==============================] - 1s 43ms/step - loss: 0.1004\n",
            "Epoch 71/100\n",
            "24/24 [==============================] - 1s 43ms/step - loss: 0.1020\n",
            "Epoch 72/100\n",
            "24/24 [==============================] - 1s 43ms/step - loss: 0.1009\n",
            "Epoch 73/100\n",
            "24/24 [==============================] - 1s 45ms/step - loss: 0.1004\n",
            "Epoch 74/100\n",
            "24/24 [==============================] - 1s 43ms/step - loss: 0.1018\n",
            "Epoch 75/100\n",
            "24/24 [==============================] - 1s 42ms/step - loss: 0.0996\n",
            "Epoch 76/100\n",
            "24/24 [==============================] - 1s 44ms/step - loss: 0.1009\n",
            "Epoch 77/100\n",
            "24/24 [==============================] - 1s 44ms/step - loss: 0.0994\n",
            "Epoch 78/100\n",
            "24/24 [==============================] - 1s 43ms/step - loss: 0.1003\n",
            "Epoch 79/100\n",
            "24/24 [==============================] - 1s 46ms/step - loss: 0.1010\n",
            "Epoch 80/100\n",
            "24/24 [==============================] - 1s 42ms/step - loss: 0.1017\n",
            "Epoch 81/100\n",
            "24/24 [==============================] - 1s 43ms/step - loss: 0.1025\n",
            "Epoch 82/100\n",
            "24/24 [==============================] - 1s 42ms/step - loss: 0.1013\n",
            "Epoch 83/100\n",
            "24/24 [==============================] - 1s 43ms/step - loss: 0.1012\n",
            "Epoch 84/100\n",
            "24/24 [==============================] - 1s 45ms/step - loss: 0.0991\n",
            "Epoch 85/100\n",
            "24/24 [==============================] - 1s 43ms/step - loss: 0.1068\n",
            "Epoch 86/100\n",
            "24/24 [==============================] - 1s 44ms/step - loss: 0.1019\n",
            "Epoch 87/100\n",
            "24/24 [==============================] - 1s 42ms/step - loss: 0.1016\n",
            "Epoch 88/100\n",
            "24/24 [==============================] - 1s 43ms/step - loss: 0.1000\n",
            "Epoch 89/100\n",
            "24/24 [==============================] - 1s 45ms/step - loss: 0.0984\n",
            "Epoch 90/100\n",
            "24/24 [==============================] - 1s 43ms/step - loss: 0.1008\n",
            "Epoch 91/100\n",
            "24/24 [==============================] - 1s 44ms/step - loss: 0.1010\n",
            "Epoch 92/100\n",
            "24/24 [==============================] - 1s 43ms/step - loss: 0.0993\n",
            "Epoch 93/100\n",
            "24/24 [==============================] - 1s 42ms/step - loss: 0.1011\n",
            "Epoch 94/100\n",
            "24/24 [==============================] - 1s 42ms/step - loss: 0.1009\n",
            "Epoch 95/100\n",
            "24/24 [==============================] - 1s 44ms/step - loss: 0.1003\n",
            "Epoch 96/100\n",
            "24/24 [==============================] - 1s 46ms/step - loss: 0.1004\n",
            "Epoch 97/100\n",
            "24/24 [==============================] - 1s 44ms/step - loss: 0.1000\n",
            "Epoch 98/100\n",
            "24/24 [==============================] - 1s 44ms/step - loss: 0.1009\n",
            "Epoch 99/100\n",
            "24/24 [==============================] - 1s 46ms/step - loss: 0.0989\n",
            "Epoch 100/100\n",
            "24/24 [==============================] - 1s 44ms/step - loss: 0.0996\n"
          ],
          "name": "stdout"
        }
      ]
    },
    {
      "cell_type": "markdown",
      "metadata": {
        "id": "rRKPZTrM8cJJ",
        "colab_type": "text"
      },
      "source": [
        "Loading Test data"
      ]
    },
    {
      "cell_type": "code",
      "metadata": {
        "id": "1KTqoYx2v1OC",
        "colab_type": "code",
        "colab": {}
      },
      "source": [
        "data_test = pd.read_excel('drive/My Drive/541/Test_dataset.xlsx')"
      ],
      "execution_count": 502,
      "outputs": []
    },
    {
      "cell_type": "code",
      "metadata": {
        "id": "LGb02EaNwDD-",
        "colab_type": "code",
        "colab": {
          "base_uri": "https://localhost:8080/",
          "height": 286
        },
        "outputId": "5633577b-64eb-4222-c417-301e8872a00f"
      },
      "source": [
        "data_test.isna().sum()"
      ],
      "execution_count": 503,
      "outputs": [
        {
          "output_type": "execute_result",
          "data": {
            "text/plain": [
              "City                   0\n",
              "State                  0\n",
              "Type                   2\n",
              "Population [2011]      6\n",
              "Popuation [2001]     501\n",
              "Sex Ratio              5\n",
              "Median Age            13\n",
              "Avg Temp              14\n",
              "SWM                    9\n",
              "Toilets Avl           22\n",
              "Water Purity          19\n",
              "H Index               15\n",
              "Female Population     15\n",
              "# of hospitals        17\n",
              "Foreign Visitors      17\n",
              "dtype: int64"
            ]
          },
          "metadata": {
            "tags": []
          },
          "execution_count": 503
        }
      ]
    },
    {
      "cell_type": "markdown",
      "metadata": {
        "id": "SdtpXie-8f37",
        "colab_type": "text"
      },
      "source": [
        "Filling Null Values"
      ]
    },
    {
      "cell_type": "code",
      "metadata": {
        "id": "Nh4BsPgKwTkk",
        "colab_type": "code",
        "colab": {}
      },
      "source": [
        "data_test['Population [2011]']=data_test['Population [2011]'].fillna(0)\n",
        "data_test['Popuation [2001]']=data_test['Popuation [2001]'].fillna(0)\n",
        "data_test['Sex Ratio']=data_test['Sex Ratio'].fillna(0)\n",
        "data_test['Median Age']=data_test['Median Age'].fillna(0)\n",
        "data_test['Avg Temp']=data_test['Avg Temp'].fillna(0)\n",
        "data_test['Toilets Avl']=data_test['Toilets Avl'].fillna(0)\n",
        "data_test['Water Purity']=data_test['Water Purity'].fillna(0)\n",
        "data_test['H Index']=data_test['H Index'].fillna(0)\n",
        "data_test['Female Population']=data_test['Female Population'].fillna(0)\n",
        "data_test['# of hospitals']=data_test['# of hospitals'].fillna(0)\n",
        "data_test['Foreign Visitors']=data_test['Foreign Visitors'].fillna(0)\n",
        "data_test['SWM']=data_test['SWM'].fillna(\"ZERO\")\n",
        "data_test['Type']=data_test['Type'].fillna(\"ZERO\")\n"
      ],
      "execution_count": 504,
      "outputs": []
    },
    {
      "cell_type": "markdown",
      "metadata": {
        "id": "Jz2Li8QE8kbL",
        "colab_type": "text"
      },
      "source": [
        "Converting Categorical to Numerical"
      ]
    },
    {
      "cell_type": "code",
      "metadata": {
        "id": "lDrShGoiwzIc",
        "colab_type": "code",
        "colab": {
          "base_uri": "https://localhost:8080/",
          "height": 212
        },
        "outputId": "4b8eb1b6-c0c8-4cc9-9297-c3eca1016c7b"
      },
      "source": [
        "from sklearn import preprocessing \n",
        "label_encoder = preprocessing.LabelEncoder() \n",
        "data_test['City']= label_encoder.fit_transform(data_test['City']) \n",
        "data_test['City'].unique()\n",
        "data_test['State']= label_encoder.fit_transform(data_test['State']) \n",
        "data_test['State'].unique()\n",
        "data_test['Type']= label_encoder.fit_transform(data_test['Type']) \n",
        "data_test['Type'].unique()\n",
        "data_test['SWM']= label_encoder.fit_transform(data_test['SWM']) \n",
        "data_test['SWM'].unique()\n",
        "\n",
        "\n",
        "\n",
        "data_test.head()"
      ],
      "execution_count": 505,
      "outputs": [
        {
          "output_type": "execute_result",
          "data": {
            "text/html": [
              "<div>\n",
              "<style scoped>\n",
              "    .dataframe tbody tr th:only-of-type {\n",
              "        vertical-align: middle;\n",
              "    }\n",
              "\n",
              "    .dataframe tbody tr th {\n",
              "        vertical-align: top;\n",
              "    }\n",
              "\n",
              "    .dataframe thead th {\n",
              "        text-align: right;\n",
              "    }\n",
              "</style>\n",
              "<table border=\"1\" class=\"dataframe\">\n",
              "  <thead>\n",
              "    <tr style=\"text-align: right;\">\n",
              "      <th></th>\n",
              "      <th>City</th>\n",
              "      <th>State</th>\n",
              "      <th>Type</th>\n",
              "      <th>Population [2011]</th>\n",
              "      <th>Popuation [2001]</th>\n",
              "      <th>Sex Ratio</th>\n",
              "      <th>Median Age</th>\n",
              "      <th>Avg Temp</th>\n",
              "      <th>SWM</th>\n",
              "      <th>Toilets Avl</th>\n",
              "      <th>Water Purity</th>\n",
              "      <th>H Index</th>\n",
              "      <th>Female Population</th>\n",
              "      <th># of hospitals</th>\n",
              "      <th>Foreign Visitors</th>\n",
              "    </tr>\n",
              "  </thead>\n",
              "  <tbody>\n",
              "    <tr>\n",
              "      <th>0</th>\n",
              "      <td>450</td>\n",
              "      <td>19</td>\n",
              "      <td>24</td>\n",
              "      <td>36774.0</td>\n",
              "      <td>0.0</td>\n",
              "      <td>931.0</td>\n",
              "      <td>23.0</td>\n",
              "      <td>10.0</td>\n",
              "      <td>2</td>\n",
              "      <td>94.0</td>\n",
              "      <td>114.0</td>\n",
              "      <td>0.253390</td>\n",
              "      <td>34237.0</td>\n",
              "      <td>17.0</td>\n",
              "      <td>2769.0</td>\n",
              "    </tr>\n",
              "    <tr>\n",
              "      <th>1</th>\n",
              "      <td>69</td>\n",
              "      <td>12</td>\n",
              "      <td>26</td>\n",
              "      <td>36754.0</td>\n",
              "      <td>0.0</td>\n",
              "      <td>934.0</td>\n",
              "      <td>25.0</td>\n",
              "      <td>38.0</td>\n",
              "      <td>0</td>\n",
              "      <td>62.0</td>\n",
              "      <td>160.0</td>\n",
              "      <td>0.192555</td>\n",
              "      <td>34328.0</td>\n",
              "      <td>13.0</td>\n",
              "      <td>636502.0</td>\n",
              "    </tr>\n",
              "    <tr>\n",
              "      <th>2</th>\n",
              "      <td>495</td>\n",
              "      <td>21</td>\n",
              "      <td>13</td>\n",
              "      <td>36732.0</td>\n",
              "      <td>0.0</td>\n",
              "      <td>883.0</td>\n",
              "      <td>29.0</td>\n",
              "      <td>35.0</td>\n",
              "      <td>0</td>\n",
              "      <td>63.0</td>\n",
              "      <td>105.0</td>\n",
              "      <td>0.887882</td>\n",
              "      <td>32434.0</td>\n",
              "      <td>17.0</td>\n",
              "      <td>242367.0</td>\n",
              "    </tr>\n",
              "    <tr>\n",
              "      <th>3</th>\n",
              "      <td>490</td>\n",
              "      <td>15</td>\n",
              "      <td>12</td>\n",
              "      <td>36706.0</td>\n",
              "      <td>0.0</td>\n",
              "      <td>887.0</td>\n",
              "      <td>26.0</td>\n",
              "      <td>31.0</td>\n",
              "      <td>0</td>\n",
              "      <td>60.0</td>\n",
              "      <td>174.0</td>\n",
              "      <td>0.407838</td>\n",
              "      <td>32558.0</td>\n",
              "      <td>11.0</td>\n",
              "      <td>4408916.0</td>\n",
              "    </tr>\n",
              "    <tr>\n",
              "      <th>4</th>\n",
              "      <td>432</td>\n",
              "      <td>26</td>\n",
              "      <td>18</td>\n",
              "      <td>36669.0</td>\n",
              "      <td>0.0</td>\n",
              "      <td>877.0</td>\n",
              "      <td>28.0</td>\n",
              "      <td>39.0</td>\n",
              "      <td>1</td>\n",
              "      <td>92.0</td>\n",
              "      <td>153.0</td>\n",
              "      <td>0.324456</td>\n",
              "      <td>32159.0</td>\n",
              "      <td>23.0</td>\n",
              "      <td>3104060.0</td>\n",
              "    </tr>\n",
              "  </tbody>\n",
              "</table>\n",
              "</div>"
            ],
            "text/plain": [
              "   City  State  Type  ...  Female Population  # of hospitals  Foreign Visitors\n",
              "0   450     19    24  ...            34237.0            17.0            2769.0\n",
              "1    69     12    26  ...            34328.0            13.0          636502.0\n",
              "2   495     21    13  ...            32434.0            17.0          242367.0\n",
              "3   490     15    12  ...            32558.0            11.0         4408916.0\n",
              "4   432     26    18  ...            32159.0            23.0         3104060.0\n",
              "\n",
              "[5 rows x 15 columns]"
            ]
          },
          "metadata": {
            "tags": []
          },
          "execution_count": 505
        }
      ]
    },
    {
      "cell_type": "code",
      "metadata": {
        "id": "4XfZZOGcxkdj",
        "colab_type": "code",
        "colab": {}
      },
      "source": [
        "cases = data_test.iloc[:, 1:2].values"
      ],
      "execution_count": 506,
      "outputs": []
    },
    {
      "cell_type": "code",
      "metadata": {
        "id": "K-ZBTvd3xs3-",
        "colab_type": "code",
        "colab": {}
      },
      "source": [
        "data_total = data['Covid Cases']\n",
        "inputs = data_total[len(data_total) - len(data_test) - 60:].values  # values for making this a numpy array\n",
        "\n",
        "# Reshaping\n",
        "inputs = inputs.reshape(-1,1)\n",
        "\n"
      ],
      "execution_count": 507,
      "outputs": []
    },
    {
      "cell_type": "code",
      "metadata": {
        "id": "epz1Ez-MyWTG",
        "colab_type": "code",
        "colab": {}
      },
      "source": [
        "inputs = sc.transform(inputs)"
      ],
      "execution_count": 508,
      "outputs": []
    },
    {
      "cell_type": "code",
      "metadata": {
        "id": "TdTDgc1Pybod",
        "colab_type": "code",
        "colab": {}
      },
      "source": [
        "x_test = [inputs[i-60:i, 0] for i in range(60, 80)]    \n",
        "x_test = np.array(x_test)\n"
      ],
      "execution_count": 509,
      "outputs": []
    },
    {
      "cell_type": "code",
      "metadata": {
        "id": "ud2ggamBymWX",
        "colab_type": "code",
        "colab": {}
      },
      "source": [
        "x_test = np.reshape(x_test, (x_test.shape[0], x_test.shape[1], 1))\n"
      ],
      "execution_count": 510,
      "outputs": []
    },
    {
      "cell_type": "code",
      "metadata": {
        "id": "2LNaZvskyn1I",
        "colab_type": "code",
        "colab": {
          "base_uri": "https://localhost:8080/",
          "height": 54
        },
        "outputId": "c11b532f-f006-4582-a35e-a6e3ffb2a549"
      },
      "source": [
        "predicted_cases = rnn_regressor.predict(x_test)"
      ],
      "execution_count": 511,
      "outputs": [
        {
          "output_type": "stream",
          "text": [
            "WARNING:tensorflow:Model was constructed with shape (None, 16, 1) for input Tensor(\"lstm_25_input:0\", shape=(None, 16, 1), dtype=float32), but it was called on an input with incompatible shape (None, 60, 1).\n"
          ],
          "name": "stdout"
        }
      ]
    },
    {
      "cell_type": "code",
      "metadata": {
        "id": "WLbwrUL2yuU8",
        "colab_type": "code",
        "colab": {}
      },
      "source": [
        "predicted_cases = sc.inverse_transform(predicted_cases)\n"
      ],
      "execution_count": 512,
      "outputs": []
    },
    {
      "cell_type": "markdown",
      "metadata": {
        "id": "t2hQO9q0CB0c",
        "colab_type": "text"
      },
      "source": [
        "Output 1 : Predicted Cases "
      ]
    },
    {
      "cell_type": "code",
      "metadata": {
        "id": "2imbRD71y2VV",
        "colab_type": "code",
        "colab": {
          "base_uri": "https://localhost:8080/",
          "height": 350
        },
        "outputId": "a7ec0a1c-bdeb-4f8c-b17f-a843f3035dc1"
      },
      "source": [
        "plt.figure(figsize=(16, 5))\n",
        "plt.plot(cases, color = 'blue', label = 'Cases of SEP1')\n",
        "plt.plot(predicted_cases, color = 'orange', label = 'Predicted_cases of SEP1')\n",
        "plt.title('Covid case Prediction')\n",
        "plt.xlabel('city')\n",
        "plt.ylabel('Cases')\n",
        "plt.legend(loc='upper left')\n",
        "plt.show()"
      ],
      "execution_count": 513,
      "outputs": [
        {
          "output_type": "display_data",
          "data": {
            "image/png": "[encoded data removed]",
            "text/plain": [
              "<Figure size 1152x360 with 1 Axes>"
            ]
          },
          "metadata": {
            "tags": [],
            "needs_background": "light"
          }
        }
      ]
    }
  ]
}