{
  "nbformat": 4,
  "nbformat_minor": 0,
  "metadata": {
    "colab": {
      "name": "Untitled16.ipynb",
      "provenance": [],
      "collapsed_sections": []
    },
    "kernelspec": {
      "name": "python3",
      "display_name": "Python 3"
    }
  },
  "cells": [
    {
      "cell_type": "markdown",
      "metadata": {
        "id": "N17yWo3eXElE",
        "colab_type": "text"
      },
      "source": [
        "library"
      ]
    },
    {
      "cell_type": "code",
      "metadata": {
        "id": "AOUHkZCzQ4eS",
        "colab_type": "code",
        "colab": {}
      },
      "source": [
        "import os\n",
        "import numpy as np\n",
        "import pandas as pd\n",
        "import matplotlib.pyplot as plt\n",
        "import seaborn as sns\n",
        "import warnings\n",
        "warnings.filterwarnings('ignore', category = RuntimeWarning)\n",
        "warnings.filterwarnings('ignore', category = UserWarning)\n",
        "\n",
        "# Importing Normalisation library\n",
        "from sklearn.preprocessing import MinMaxScaler\n",
        "\n",
        "# Importing Keras libraries and Packages\n",
        "from keras.models import Sequential\n",
        "from keras.layers import Dense\n",
        "from keras.layers import LSTM\n",
        "from keras.layers import Dropout\n",
        "\n",
        "# Importing Metrics libraries\n",
        "import math\n",
        "from sklearn.metrics import mean_squared_error"
      ],
      "execution_count": 12,
      "outputs": []
    },
    {
      "cell_type": "markdown",
      "metadata": {
        "id": "pdK6Xw7NXKDL",
        "colab_type": "text"
      },
      "source": [
        "Data Loading"
      ]
    },
    {
      "cell_type": "code",
      "metadata": {
        "id": "zzNrz989RAhu",
        "colab_type": "code",
        "colab": {
          "base_uri": "https://localhost:8080/",
          "height": 232
        },
        "outputId": "5d3ae5c6-7d4e-4f2c-beb5-3e65875ae161"
      },
      "source": [
        "data=pd.read_excel('drive/My Drive/541/Train_dataset.xlsx')\n",
        "data.head()"
      ],
      "execution_count": 13,
      "outputs": [
        {
          "output_type": "execute_result",
          "data": {
            "text/html": [
              "<div>\n",
              "<style scoped>\n",
              "    .dataframe tbody tr th:only-of-type {\n",
              "        vertical-align: middle;\n",
              "    }\n",
              "\n",
              "    .dataframe tbody tr th {\n",
              "        vertical-align: top;\n",
              "    }\n",
              "\n",
              "    .dataframe thead th {\n",
              "        text-align: right;\n",
              "    }\n",
              "</style>\n",
              "<table border=\"1\" class=\"dataframe\">\n",
              "  <thead>\n",
              "    <tr style=\"text-align: right;\">\n",
              "      <th></th>\n",
              "      <th>City</th>\n",
              "      <th>State</th>\n",
              "      <th>Type</th>\n",
              "      <th>Population [2011]</th>\n",
              "      <th>Popuation [2001]</th>\n",
              "      <th>Sex Ratio</th>\n",
              "      <th>Median Age</th>\n",
              "      <th>Avg Temp</th>\n",
              "      <th>SWM</th>\n",
              "      <th>Toilets Avl</th>\n",
              "      <th>Water Purity</th>\n",
              "      <th>H Index</th>\n",
              "      <th>Female Population</th>\n",
              "      <th># of hospitals</th>\n",
              "      <th>Foreign Visitors</th>\n",
              "      <th>Covid Cases</th>\n",
              "    </tr>\n",
              "  </thead>\n",
              "  <tbody>\n",
              "    <tr>\n",
              "      <th>0</th>\n",
              "      <td>Mumbai</td>\n",
              "      <td>Maharashtra</td>\n",
              "      <td>M.C</td>\n",
              "      <td>12442373.0</td>\n",
              "      <td>11978450.0</td>\n",
              "      <td>878.0</td>\n",
              "      <td>23.0</td>\n",
              "      <td>32.0</td>\n",
              "      <td>MEDIUM</td>\n",
              "      <td>219.0</td>\n",
              "      <td>150.0</td>\n",
              "      <td>0.700440</td>\n",
              "      <td>10924403.0</td>\n",
              "      <td>159.0</td>\n",
              "      <td>4408916.0</td>\n",
              "      <td>163115</td>\n",
              "    </tr>\n",
              "    <tr>\n",
              "      <th>1</th>\n",
              "      <td>Delhi</td>\n",
              "      <td>Delhi</td>\n",
              "      <td>M.C</td>\n",
              "      <td>11007835.0</td>\n",
              "      <td>9879172.0</td>\n",
              "      <td>858.0</td>\n",
              "      <td>27.0</td>\n",
              "      <td>30.0</td>\n",
              "      <td>MEDIUM</td>\n",
              "      <td>215.0</td>\n",
              "      <td>196.0</td>\n",
              "      <td>0.920018</td>\n",
              "      <td>9444722.0</td>\n",
              "      <td>148.0</td>\n",
              "      <td>2379169.0</td>\n",
              "      <td>80188</td>\n",
              "    </tr>\n",
              "    <tr>\n",
              "      <th>2</th>\n",
              "      <td>Bangalore</td>\n",
              "      <td>Karnataka</td>\n",
              "      <td>MPUA</td>\n",
              "      <td>8436675.0</td>\n",
              "      <td>4301326.0</td>\n",
              "      <td>936.0</td>\n",
              "      <td>28.0</td>\n",
              "      <td>37.0</td>\n",
              "      <td>HIGH</td>\n",
              "      <td>212.0</td>\n",
              "      <td>102.0</td>\n",
              "      <td>0.097085</td>\n",
              "      <td>7896728.0</td>\n",
              "      <td>123.0</td>\n",
              "      <td>636502.0</td>\n",
              "      <td>141000</td>\n",
              "    </tr>\n",
              "    <tr>\n",
              "      <th>3</th>\n",
              "      <td>Hyderabad</td>\n",
              "      <td>Telangana</td>\n",
              "      <td>MPUA</td>\n",
              "      <td>6809970.0</td>\n",
              "      <td>3637483.0</td>\n",
              "      <td>930.0</td>\n",
              "      <td>23.0</td>\n",
              "      <td>31.0</td>\n",
              "      <td>MEDIUM</td>\n",
              "      <td>217.0</td>\n",
              "      <td>118.0</td>\n",
              "      <td>0.827744</td>\n",
              "      <td>6333272.0</td>\n",
              "      <td>110.0</td>\n",
              "      <td>126078.0</td>\n",
              "      <td>55123</td>\n",
              "    </tr>\n",
              "    <tr>\n",
              "      <th>4</th>\n",
              "      <td>Ahmedabad</td>\n",
              "      <td>Gujarat</td>\n",
              "      <td>MPUA</td>\n",
              "      <td>5570585.0</td>\n",
              "      <td>3520085.0</td>\n",
              "      <td>852.0</td>\n",
              "      <td>29.0</td>\n",
              "      <td>25.0</td>\n",
              "      <td>LOW</td>\n",
              "      <td>227.0</td>\n",
              "      <td>109.0</td>\n",
              "      <td>0.847941</td>\n",
              "      <td>4746138.0</td>\n",
              "      <td>73.0</td>\n",
              "      <td>284973.0</td>\n",
              "      <td>33204</td>\n",
              "    </tr>\n",
              "  </tbody>\n",
              "</table>\n",
              "</div>"
            ],
            "text/plain": [
              "        City        State  Type  ...  # of hospitals  Foreign Visitors  Covid Cases\n",
              "0     Mumbai  Maharashtra   M.C  ...           159.0         4408916.0       163115\n",
              "1      Delhi        Delhi   M.C  ...           148.0         2379169.0        80188\n",
              "2  Bangalore    Karnataka  MPUA  ...           123.0          636502.0       141000\n",
              "3  Hyderabad    Telangana  MPUA  ...           110.0          126078.0        55123\n",
              "4  Ahmedabad      Gujarat  MPUA  ...            73.0          284973.0        33204\n",
              "\n",
              "[5 rows x 16 columns]"
            ]
          },
          "metadata": {
            "tags": []
          },
          "execution_count": 13
        }
      ]
    },
    {
      "cell_type": "code",
      "metadata": {
        "id": "S1j_ullKRFKw",
        "colab_type": "code",
        "colab": {
          "base_uri": "https://localhost:8080/",
          "height": 321
        },
        "outputId": "b0ddd18f-df1a-4c56-da6f-8d75f5e54eb8"
      },
      "source": [
        "data.describe()"
      ],
      "execution_count": 14,
      "outputs": [
        {
          "output_type": "execute_result",
          "data": {
            "text/html": [
              "<div>\n",
              "<style scoped>\n",
              "    .dataframe tbody tr th:only-of-type {\n",
              "        vertical-align: middle;\n",
              "    }\n",
              "\n",
              "    .dataframe tbody tr th {\n",
              "        vertical-align: top;\n",
              "    }\n",
              "\n",
              "    .dataframe thead th {\n",
              "        text-align: right;\n",
              "    }\n",
              "</style>\n",
              "<table border=\"1\" class=\"dataframe\">\n",
              "  <thead>\n",
              "    <tr style=\"text-align: right;\">\n",
              "      <th></th>\n",
              "      <th>Population [2011]</th>\n",
              "      <th>Popuation [2001]</th>\n",
              "      <th>Sex Ratio</th>\n",
              "      <th>Median Age</th>\n",
              "      <th>Avg Temp</th>\n",
              "      <th>Toilets Avl</th>\n",
              "      <th>Water Purity</th>\n",
              "      <th>H Index</th>\n",
              "      <th>Female Population</th>\n",
              "      <th># of hospitals</th>\n",
              "      <th>Foreign Visitors</th>\n",
              "      <th>Covid Cases</th>\n",
              "    </tr>\n",
              "  </thead>\n",
              "  <tbody>\n",
              "    <tr>\n",
              "      <th>count</th>\n",
              "      <td>7.390000e+02</td>\n",
              "      <td>2.950000e+02</td>\n",
              "      <td>777.000000</td>\n",
              "      <td>769.000000</td>\n",
              "      <td>770.000000</td>\n",
              "      <td>761.000000</td>\n",
              "      <td>629.000000</td>\n",
              "      <td>647.000000</td>\n",
              "      <td>6.460000e+02</td>\n",
              "      <td>772.000000</td>\n",
              "      <td>6.970000e+02</td>\n",
              "      <td>787.00000</td>\n",
              "    </tr>\n",
              "    <tr>\n",
              "      <th>mean</th>\n",
              "      <td>3.102834e+05</td>\n",
              "      <td>5.320451e+05</td>\n",
              "      <td>905.712999</td>\n",
              "      <td>26.183355</td>\n",
              "      <td>30.941558</td>\n",
              "      <td>96.086728</td>\n",
              "      <td>150.373609</td>\n",
              "      <td>0.497069</td>\n",
              "      <td>2.910011e+05</td>\n",
              "      <td>41.849741</td>\n",
              "      <td>1.457945e+06</td>\n",
              "      <td>6615.64676</td>\n",
              "    </tr>\n",
              "    <tr>\n",
              "      <th>std</th>\n",
              "      <td>8.874849e+05</td>\n",
              "      <td>1.067831e+06</td>\n",
              "      <td>37.018542</td>\n",
              "      <td>2.113063</td>\n",
              "      <td>6.968289</td>\n",
              "      <td>30.532991</td>\n",
              "      <td>29.063767</td>\n",
              "      <td>0.293421</td>\n",
              "      <td>8.354348e+05</td>\n",
              "      <td>29.086939</td>\n",
              "      <td>1.664151e+06</td>\n",
              "      <td>15108.10276</td>\n",
              "    </tr>\n",
              "    <tr>\n",
              "      <th>min</th>\n",
              "      <td>3.677600e+04</td>\n",
              "      <td>2.935400e+04</td>\n",
              "      <td>818.000000</td>\n",
              "      <td>23.000000</td>\n",
              "      <td>5.000000</td>\n",
              "      <td>50.000000</td>\n",
              "      <td>100.000000</td>\n",
              "      <td>0.003074</td>\n",
              "      <td>3.091300e+04</td>\n",
              "      <td>10.000000</td>\n",
              "      <td>7.980000e+02</td>\n",
              "      <td>334.00000</td>\n",
              "    </tr>\n",
              "    <tr>\n",
              "      <th>25%</th>\n",
              "      <td>5.255000e+04</td>\n",
              "      <td>1.694320e+05</td>\n",
              "      <td>877.000000</td>\n",
              "      <td>24.000000</td>\n",
              "      <td>28.000000</td>\n",
              "      <td>70.000000</td>\n",
              "      <td>125.000000</td>\n",
              "      <td>0.238586</td>\n",
              "      <td>4.514450e+04</td>\n",
              "      <td>18.000000</td>\n",
              "      <td>2.378540e+05</td>\n",
              "      <td>2270.00000</td>\n",
              "    </tr>\n",
              "    <tr>\n",
              "      <th>50%</th>\n",
              "      <td>7.910600e+04</td>\n",
              "      <td>2.366000e+05</td>\n",
              "      <td>906.000000</td>\n",
              "      <td>26.000000</td>\n",
              "      <td>31.000000</td>\n",
              "      <td>92.000000</td>\n",
              "      <td>150.000000</td>\n",
              "      <td>0.507004</td>\n",
              "      <td>8.306750e+04</td>\n",
              "      <td>28.000000</td>\n",
              "      <td>6.365020e+05</td>\n",
              "      <td>2582.00000</td>\n",
              "    </tr>\n",
              "    <tr>\n",
              "      <th>75%</th>\n",
              "      <td>2.374765e+05</td>\n",
              "      <td>4.745850e+05</td>\n",
              "      <td>928.000000</td>\n",
              "      <td>28.000000</td>\n",
              "      <td>36.000000</td>\n",
              "      <td>119.000000</td>\n",
              "      <td>176.000000</td>\n",
              "      <td>0.752517</td>\n",
              "      <td>2.206772e+05</td>\n",
              "      <td>67.000000</td>\n",
              "      <td>3.104060e+06</td>\n",
              "      <td>8761.00000</td>\n",
              "    </tr>\n",
              "    <tr>\n",
              "      <th>max</th>\n",
              "      <td>1.244237e+07</td>\n",
              "      <td>1.197845e+07</td>\n",
              "      <td>1042.000000</td>\n",
              "      <td>32.000000</td>\n",
              "      <td>40.000000</td>\n",
              "      <td>227.000000</td>\n",
              "      <td>200.000000</td>\n",
              "      <td>0.999774</td>\n",
              "      <td>1.092440e+07</td>\n",
              "      <td>159.000000</td>\n",
              "      <td>4.684707e+06</td>\n",
              "      <td>218502.00000</td>\n",
              "    </tr>\n",
              "  </tbody>\n",
              "</table>\n",
              "</div>"
            ],
            "text/plain": [
              "       Population [2011]  Popuation [2001]  ...  Foreign Visitors   Covid Cases\n",
              "count       7.390000e+02      2.950000e+02  ...      6.970000e+02     787.00000\n",
              "mean        3.102834e+05      5.320451e+05  ...      1.457945e+06    6615.64676\n",
              "std         8.874849e+05      1.067831e+06  ...      1.664151e+06   15108.10276\n",
              "min         3.677600e+04      2.935400e+04  ...      7.980000e+02     334.00000\n",
              "25%         5.255000e+04      1.694320e+05  ...      2.378540e+05    2270.00000\n",
              "50%         7.910600e+04      2.366000e+05  ...      6.365020e+05    2582.00000\n",
              "75%         2.374765e+05      4.745850e+05  ...      3.104060e+06    8761.00000\n",
              "max         1.244237e+07      1.197845e+07  ...      4.684707e+06  218502.00000\n",
              "\n",
              "[8 rows x 12 columns]"
            ]
          },
          "metadata": {
            "tags": []
          },
          "execution_count": 14
        }
      ]
    },
    {
      "cell_type": "code",
      "metadata": {
        "id": "dkGtb67WRH66",
        "colab_type": "code",
        "colab": {
          "base_uri": "https://localhost:8080/",
          "height": 302
        },
        "outputId": "cd9fccce-864a-4c60-aed8-4b25cfe723e5"
      },
      "source": [
        "data.isna().sum()"
      ],
      "execution_count": 15,
      "outputs": [
        {
          "output_type": "execute_result",
          "data": {
            "text/plain": [
              "City                   0\n",
              "State                  0\n",
              "Type                   0\n",
              "Population [2011]     48\n",
              "Popuation [2001]     492\n",
              "Sex Ratio             10\n",
              "Median Age            18\n",
              "Avg Temp              17\n",
              "SWM                    4\n",
              "Toilets Avl           26\n",
              "Water Purity         158\n",
              "H Index              140\n",
              "Female Population    141\n",
              "# of hospitals        15\n",
              "Foreign Visitors      90\n",
              "Covid Cases            0\n",
              "dtype: int64"
            ]
          },
          "metadata": {
            "tags": []
          },
          "execution_count": 15
        }
      ]
    },
    {
      "cell_type": "markdown",
      "metadata": {
        "id": "Ru7D_aBCXOXw",
        "colab_type": "text"
      },
      "source": [
        "Finding Null Values"
      ]
    },
    {
      "cell_type": "code",
      "metadata": {
        "id": "xQz9mK0KRPqN",
        "colab_type": "code",
        "colab": {}
      },
      "source": [
        "data['Population [2011]']=data['Population [2011]'].fillna(0)\n",
        "data['Popuation [2001]']=data['Popuation [2001]'].fillna(0)\n",
        "data['Sex Ratio']=data['Sex Ratio'].fillna(0)\n",
        "data['Median Age']=data['Median Age'].fillna(0)\n",
        "data['Avg Temp']=data['Avg Temp'].fillna(0)\n",
        "data['Toilets Avl']=data['Toilets Avl'].fillna(0)\n",
        "data['Water Purity']=data['Water Purity'].fillna(0)\n",
        "data['H Index']=data['H Index'].fillna(0)\n",
        "data['Female Population']=data['Female Population'].fillna(0)\n",
        "data['# of hospitals']=data['# of hospitals'].fillna(0)\n",
        "data['Foreign Visitors']=data['Foreign Visitors'].fillna(0)\n",
        "data['SWM']=data['SWM'].fillna(\"ZERO\")"
      ],
      "execution_count": 17,
      "outputs": []
    },
    {
      "cell_type": "markdown",
      "metadata": {
        "id": "GA_-hdSXXR-x",
        "colab_type": "text"
      },
      "source": [
        "Filling Null Values"
      ]
    },
    {
      "cell_type": "code",
      "metadata": {
        "id": "4E1si_aORSCB",
        "colab_type": "code",
        "colab": {
          "base_uri": "https://localhost:8080/",
          "height": 212
        },
        "outputId": "1052094b-47b9-4081-f1b8-6645c77da0bf"
      },
      "source": [
        "from sklearn import preprocessing \n",
        "label_encoder = preprocessing.LabelEncoder() \n",
        "data['City']= label_encoder.fit_transform(data['City']) \n",
        "data['City'].unique()\n",
        "data['State']= label_encoder.fit_transform(data['State']) \n",
        "data['State'].unique()\n",
        "data['Type']= label_encoder.fit_transform(data['Type']) \n",
        "data['Type'].unique()\n",
        "data['SWM']= label_encoder.fit_transform(data['SWM']) \n",
        "data['SWM'].unique()\n",
        "\n",
        "\n",
        "\n",
        "data.head()"
      ],
      "execution_count": 18,
      "outputs": [
        {
          "output_type": "execute_result",
          "data": {
            "text/html": [
              "<div>\n",
              "<style scoped>\n",
              "    .dataframe tbody tr th:only-of-type {\n",
              "        vertical-align: middle;\n",
              "    }\n",
              "\n",
              "    .dataframe tbody tr th {\n",
              "        vertical-align: top;\n",
              "    }\n",
              "\n",
              "    .dataframe thead th {\n",
              "        text-align: right;\n",
              "    }\n",
              "</style>\n",
              "<table border=\"1\" class=\"dataframe\">\n",
              "  <thead>\n",
              "    <tr style=\"text-align: right;\">\n",
              "      <th></th>\n",
              "      <th>City</th>\n",
              "      <th>State</th>\n",
              "      <th>Type</th>\n",
              "      <th>Population [2011]</th>\n",
              "      <th>Popuation [2001]</th>\n",
              "      <th>Sex Ratio</th>\n",
              "      <th>Median Age</th>\n",
              "      <th>Avg Temp</th>\n",
              "      <th>SWM</th>\n",
              "      <th>Toilets Avl</th>\n",
              "      <th>Water Purity</th>\n",
              "      <th>H Index</th>\n",
              "      <th>Female Population</th>\n",
              "      <th># of hospitals</th>\n",
              "      <th>Foreign Visitors</th>\n",
              "      <th>Covid Cases</th>\n",
              "    </tr>\n",
              "  </thead>\n",
              "  <tbody>\n",
              "    <tr>\n",
              "      <th>0</th>\n",
              "      <td>378</td>\n",
              "      <td>16</td>\n",
              "      <td>10</td>\n",
              "      <td>12442373.0</td>\n",
              "      <td>11978450.0</td>\n",
              "      <td>878.0</td>\n",
              "      <td>23.0</td>\n",
              "      <td>32.0</td>\n",
              "      <td>2</td>\n",
              "      <td>219.0</td>\n",
              "      <td>150.0</td>\n",
              "      <td>0.700440</td>\n",
              "      <td>10924403.0</td>\n",
              "      <td>159.0</td>\n",
              "      <td>4408916.0</td>\n",
              "      <td>163115</td>\n",
              "    </tr>\n",
              "    <tr>\n",
              "      <th>1</th>\n",
              "      <td>135</td>\n",
              "      <td>6</td>\n",
              "      <td>10</td>\n",
              "      <td>11007835.0</td>\n",
              "      <td>9879172.0</td>\n",
              "      <td>858.0</td>\n",
              "      <td>27.0</td>\n",
              "      <td>30.0</td>\n",
              "      <td>2</td>\n",
              "      <td>215.0</td>\n",
              "      <td>196.0</td>\n",
              "      <td>0.920018</td>\n",
              "      <td>9444722.0</td>\n",
              "      <td>148.0</td>\n",
              "      <td>2379169.0</td>\n",
              "      <td>80188</td>\n",
              "    </tr>\n",
              "    <tr>\n",
              "      <th>2</th>\n",
              "      <td>52</td>\n",
              "      <td>13</td>\n",
              "      <td>16</td>\n",
              "      <td>8436675.0</td>\n",
              "      <td>4301326.0</td>\n",
              "      <td>936.0</td>\n",
              "      <td>28.0</td>\n",
              "      <td>37.0</td>\n",
              "      <td>0</td>\n",
              "      <td>212.0</td>\n",
              "      <td>102.0</td>\n",
              "      <td>0.097085</td>\n",
              "      <td>7896728.0</td>\n",
              "      <td>123.0</td>\n",
              "      <td>636502.0</td>\n",
              "      <td>141000</td>\n",
              "    </tr>\n",
              "    <tr>\n",
              "      <th>3</th>\n",
              "      <td>210</td>\n",
              "      <td>28</td>\n",
              "      <td>16</td>\n",
              "      <td>6809970.0</td>\n",
              "      <td>3637483.0</td>\n",
              "      <td>930.0</td>\n",
              "      <td>23.0</td>\n",
              "      <td>31.0</td>\n",
              "      <td>2</td>\n",
              "      <td>217.0</td>\n",
              "      <td>118.0</td>\n",
              "      <td>0.827744</td>\n",
              "      <td>6333272.0</td>\n",
              "      <td>110.0</td>\n",
              "      <td>126078.0</td>\n",
              "      <td>55123</td>\n",
              "    </tr>\n",
              "    <tr>\n",
              "      <th>4</th>\n",
              "      <td>3</td>\n",
              "      <td>8</td>\n",
              "      <td>16</td>\n",
              "      <td>5570585.0</td>\n",
              "      <td>3520085.0</td>\n",
              "      <td>852.0</td>\n",
              "      <td>29.0</td>\n",
              "      <td>25.0</td>\n",
              "      <td>1</td>\n",
              "      <td>227.0</td>\n",
              "      <td>109.0</td>\n",
              "      <td>0.847941</td>\n",
              "      <td>4746138.0</td>\n",
              "      <td>73.0</td>\n",
              "      <td>284973.0</td>\n",
              "      <td>33204</td>\n",
              "    </tr>\n",
              "  </tbody>\n",
              "</table>\n",
              "</div>"
            ],
            "text/plain": [
              "   City  State  Type  ...  # of hospitals  Foreign Visitors  Covid Cases\n",
              "0   378     16    10  ...           159.0         4408916.0       163115\n",
              "1   135      6    10  ...           148.0         2379169.0        80188\n",
              "2    52     13    16  ...           123.0          636502.0       141000\n",
              "3   210     28    16  ...           110.0          126078.0        55123\n",
              "4     3      8    16  ...            73.0          284973.0        33204\n",
              "\n",
              "[5 rows x 16 columns]"
            ]
          },
          "metadata": {
            "tags": []
          },
          "execution_count": 18
        }
      ]
    },
    {
      "cell_type": "code",
      "metadata": {
        "id": "Rj2Z2aYwRc1G",
        "colab_type": "code",
        "colab": {
          "base_uri": "https://localhost:8080/",
          "height": 897
        },
        "outputId": "675f3ab1-b4e0-4d5f-9066-cafd5de4b170"
      },
      "source": [
        "data.hist(bins=300, figsize=(25,20)) \n",
        "plt.show()"
      ],
      "execution_count": 19,
      "outputs": [
        {
          "output_type": "display_data",
          "data": {
            "image/png": "[encoded data removed]",
            "text/plain": [
              "<Figure size 1800x1440 with 16 Axes>"
            ]
          },
          "metadata": {
            "tags": [],
            "needs_background": "light"
          }
        }
      ]
    },
    {
      "cell_type": "markdown",
      "metadata": {
        "id": "Qqld9GKqXXYq",
        "colab_type": "text"
      },
      "source": [
        "Heat Map"
      ]
    },
    {
      "cell_type": "code",
      "metadata": {
        "id": "0B9IWNNlRhrr",
        "colab_type": "code",
        "colab": {
          "base_uri": "https://localhost:8080/",
          "height": 585
        },
        "outputId": "cd24ef25-4995-4bfc-9374-8f1af1a618f5"
      },
      "source": [
        "plt.figure(figsize=(16,8))\n",
        "sns.heatmap(data.corr()) #Correlation between columns"
      ],
      "execution_count": 20,
      "outputs": [
        {
          "output_type": "execute_result",
          "data": {
            "text/plain": [
              "<matplotlib.axes._subplots.AxesSubplot at 0x7f6664d07b00>"
            ]
          },
          "metadata": {
            "tags": []
          },
          "execution_count": 20
        },
        {
          "output_type": "display_data",
          "data": {
            "image/png": "[encoded data removed]",
            "text/plain": [
              "<Figure size 1152x576 with 2 Axes>"
            ]
          },
          "metadata": {
            "tags": [],
            "needs_background": "light"
          }
        }
      ]
    },
    {
      "cell_type": "code",
      "metadata": {
        "id": "WFYGxzMvRiyj",
        "colab_type": "code",
        "colab": {}
      },
      "source": [
        "training_set = data.iloc[:, 1:2].values"
      ],
      "execution_count": 21,
      "outputs": []
    },
    {
      "cell_type": "code",
      "metadata": {
        "id": "r-DSdh22RnVb",
        "colab_type": "code",
        "colab": {}
      },
      "source": [
        "sc = MinMaxScaler(feature_range= (0,1))"
      ],
      "execution_count": 23,
      "outputs": []
    },
    {
      "cell_type": "code",
      "metadata": {
        "id": "Qx7WYO44Rqga",
        "colab_type": "code",
        "colab": {}
      },
      "source": [
        "scaled_training_set = sc.fit_transform(training_set)"
      ],
      "execution_count": 24,
      "outputs": []
    },
    {
      "cell_type": "code",
      "metadata": {
        "id": "E8lBknYsRtWs",
        "colab_type": "code",
        "colab": {}
      },
      "source": [
        "x_train, y_train = zip(*[(scaled_training_set[i-16:i, 0]\n",
        "                          ,scaled_training_set[i, 0])\n",
        "                          for i in range(16, 758)])"
      ],
      "execution_count": 25,
      "outputs": []
    },
    {
      "cell_type": "code",
      "metadata": {
        "id": "_RL6fOkGRwZp",
        "colab_type": "code",
        "colab": {}
      },
      "source": [
        "x_train, y_train = np.array(x_train), np.array(y_train)"
      ],
      "execution_count": 26,
      "outputs": []
    },
    {
      "cell_type": "code",
      "metadata": {
        "id": "KlM5vMFlR17d",
        "colab_type": "code",
        "colab": {}
      },
      "source": [
        "x_train = np.reshape(x_train, (x_train.shape[0], x_train.shape[1], 1))"
      ],
      "execution_count": 27,
      "outputs": []
    },
    {
      "cell_type": "code",
      "metadata": {
        "id": "o7-vzn6vR2-s",
        "colab_type": "code",
        "colab": {}
      },
      "source": [
        "INPUT_SHAPE = (x_train.shape[1], 1)\n",
        "BATCH_SIZE = 32"
      ],
      "execution_count": 28,
      "outputs": []
    },
    {
      "cell_type": "markdown",
      "metadata": {
        "id": "Hm-M2fwLXdQV",
        "colab_type": "text"
      },
      "source": [
        " RNN Regressor"
      ]
    },
    {
      "cell_type": "code",
      "metadata": {
        "id": "f1kxQ4a3R6C7",
        "colab_type": "code",
        "colab": {}
      },
      "source": [
        "rnn_regressor = Sequential()"
      ],
      "execution_count": 29,
      "outputs": []
    },
    {
      "cell_type": "code",
      "metadata": {
        "id": "_NJm2mIrR-xO",
        "colab_type": "code",
        "colab": {}
      },
      "source": [
        "rnn_regressor.add(LSTM(units = 50, return_sequences = True, input_shape = INPUT_SHAPE))\n",
        "rnn_regressor.add(Dropout(0.2))"
      ],
      "execution_count": 30,
      "outputs": []
    },
    {
      "cell_type": "code",
      "metadata": {
        "id": "58srHk53SBh3",
        "colab_type": "code",
        "colab": {}
      },
      "source": [
        "rnn_regressor.add(LSTM(units = 50, return_sequences = True))\n",
        "rnn_regressor.add(Dropout(0.2))\n",
        "rnn_regressor.add(LSTM(units = 50, return_sequences = True))\n",
        "rnn_regressor.add(Dropout(0.2))\n",
        "rnn_regressor.add(LSTM(units = 50, return_sequences = True))\n",
        "rnn_regressor.add(Dropout(0.2))\n",
        "rnn_regressor.add(LSTM(units = 50))\n",
        "rnn_regressor.add(Dropout(0.2))"
      ],
      "execution_count": 31,
      "outputs": []
    },
    {
      "cell_type": "code",
      "metadata": {
        "id": "HBDoAkpXSFIt",
        "colab_type": "code",
        "colab": {}
      },
      "source": [
        "rnn_regressor.add(Dense(units = 1))"
      ],
      "execution_count": 32,
      "outputs": []
    },
    {
      "cell_type": "code",
      "metadata": {
        "id": "Pv6lBvs9SIOU",
        "colab_type": "code",
        "colab": {}
      },
      "source": [
        "rnn_regressor.compile(optimizer = 'adam', loss = 'mean_squared_error')"
      ],
      "execution_count": 33,
      "outputs": []
    },
    {
      "cell_type": "code",
      "metadata": {
        "id": "gFXwjBTDSLNN",
        "colab_type": "code",
        "colab": {
          "base_uri": "https://localhost:8080/",
          "height": 521
        },
        "outputId": "5eb3de00-5d64-4125-a7a7-1d417db631d1"
      },
      "source": [
        "rnn_regressor.summary()"
      ],
      "execution_count": 34,
      "outputs": [
        {
          "output_type": "stream",
          "text": [
            "Model: \"sequential\"\n",
            "_________________________________________________________________\n",
            "Layer (type)                 Output Shape              Param #   \n",
            "=================================================================\n",
            "lstm (LSTM)                  (None, 16, 50)            10400     \n",
            "_________________________________________________________________\n",
            "dropout (Dropout)            (None, 16, 50)            0         \n",
            "_________________________________________________________________\n",
            "lstm_1 (LSTM)                (None, 16, 50)            20200     \n",
            "_________________________________________________________________\n",
            "dropout_1 (Dropout)          (None, 16, 50)            0         \n",
            "_________________________________________________________________\n",
            "lstm_2 (LSTM)                (None, 16, 50)            20200     \n",
            "_________________________________________________________________\n",
            "dropout_2 (Dropout)          (None, 16, 50)            0         \n",
            "_________________________________________________________________\n",
            "lstm_3 (LSTM)                (None, 16, 50)            20200     \n",
            "_________________________________________________________________\n",
            "dropout_3 (Dropout)          (None, 16, 50)            0         \n",
            "_________________________________________________________________\n",
            "lstm_4 (LSTM)                (None, 50)                20200     \n",
            "_________________________________________________________________\n",
            "dropout_4 (Dropout)          (None, 50)                0         \n",
            "_________________________________________________________________\n",
            "dense (Dense)                (None, 1)                 51        \n",
            "=================================================================\n",
            "Total params: 91,251\n",
            "Trainable params: 91,251\n",
            "Non-trainable params: 0\n",
            "_________________________________________________________________\n"
          ],
          "name": "stdout"
        }
      ]
    },
    {
      "cell_type": "code",
      "metadata": {
        "id": "HZFSPzLcSONH",
        "colab_type": "code",
        "colab": {
          "base_uri": "https://localhost:8080/",
          "height": 1000
        },
        "outputId": "94bb7c41-6938-4a9f-83fd-528e0e27e634"
      },
      "source": [
        "epochs = 100\n",
        "history = rnn_regressor.fit(\n",
        "    x = x_train,\n",
        "    y = y_train,\n",
        "    epochs = epochs,\n",
        "    batch_size = BATCH_SIZE\n",
        ")"
      ],
      "execution_count": 35,
      "outputs": [
        {
          "output_type": "stream",
          "text": [
            "Epoch 1/100\n",
            "24/24 [==============================] - 1s 38ms/step - loss: 0.1503\n",
            "Epoch 2/100\n",
            "24/24 [==============================] - 1s 37ms/step - loss: 0.1055\n",
            "Epoch 3/100\n",
            "24/24 [==============================] - 1s 37ms/step - loss: 0.1071\n",
            "Epoch 4/100\n",
            "24/24 [==============================] - 1s 37ms/step - loss: 0.1049\n",
            "Epoch 5/100\n",
            "24/24 [==============================] - 1s 37ms/step - loss: 0.1067\n",
            "Epoch 6/100\n",
            "24/24 [==============================] - 1s 37ms/step - loss: 0.1061\n",
            "Epoch 7/100\n",
            "24/24 [==============================] - 1s 36ms/step - loss: 0.1049\n",
            "Epoch 8/100\n",
            "24/24 [==============================] - 1s 37ms/step - loss: 0.1046\n",
            "Epoch 9/100\n",
            "24/24 [==============================] - 1s 37ms/step - loss: 0.1032\n",
            "Epoch 10/100\n",
            "24/24 [==============================] - 1s 37ms/step - loss: 0.1031\n",
            "Epoch 11/100\n",
            "24/24 [==============================] - 1s 37ms/step - loss: 0.1056\n",
            "Epoch 12/100\n",
            "24/24 [==============================] - 1s 38ms/step - loss: 0.1052\n",
            "Epoch 13/100\n",
            "24/24 [==============================] - 1s 38ms/step - loss: 0.1051\n",
            "Epoch 14/100\n",
            "24/24 [==============================] - 1s 41ms/step - loss: 0.1044\n",
            "Epoch 15/100\n",
            "24/24 [==============================] - 1s 38ms/step - loss: 0.1011\n",
            "Epoch 16/100\n",
            "24/24 [==============================] - 1s 36ms/step - loss: 0.1037\n",
            "Epoch 17/100\n",
            "24/24 [==============================] - 1s 38ms/step - loss: 0.1027\n",
            "Epoch 18/100\n",
            "24/24 [==============================] - 1s 37ms/step - loss: 0.1019\n",
            "Epoch 19/100\n",
            "24/24 [==============================] - 1s 37ms/step - loss: 0.1016\n",
            "Epoch 20/100\n",
            "24/24 [==============================] - 1s 38ms/step - loss: 0.1051\n",
            "Epoch 21/100\n",
            "24/24 [==============================] - 1s 38ms/step - loss: 0.1030\n",
            "Epoch 22/100\n",
            "24/24 [==============================] - 1s 38ms/step - loss: 0.1073\n",
            "Epoch 23/100\n",
            "24/24 [==============================] - 1s 38ms/step - loss: 0.1077\n",
            "Epoch 24/100\n",
            "24/24 [==============================] - 1s 37ms/step - loss: 0.1049\n",
            "Epoch 25/100\n",
            "24/24 [==============================] - 1s 36ms/step - loss: 0.1015\n",
            "Epoch 26/100\n",
            "24/24 [==============================] - 1s 37ms/step - loss: 0.1028\n",
            "Epoch 27/100\n",
            "24/24 [==============================] - 1s 37ms/step - loss: 0.1028\n",
            "Epoch 28/100\n",
            "24/24 [==============================] - 1s 38ms/step - loss: 0.1039\n",
            "Epoch 29/100\n",
            "24/24 [==============================] - 1s 38ms/step - loss: 0.1033\n",
            "Epoch 30/100\n",
            "24/24 [==============================] - 1s 38ms/step - loss: 0.1025\n",
            "Epoch 31/100\n",
            "24/24 [==============================] - 1s 38ms/step - loss: 0.1030\n",
            "Epoch 32/100\n",
            "24/24 [==============================] - 1s 38ms/step - loss: 0.1026\n",
            "Epoch 33/100\n",
            "24/24 [==============================] - 1s 38ms/step - loss: 0.1021\n",
            "Epoch 34/100\n",
            "24/24 [==============================] - 1s 37ms/step - loss: 0.1021\n",
            "Epoch 35/100\n",
            "24/24 [==============================] - 1s 37ms/step - loss: 0.1023\n",
            "Epoch 36/100\n",
            "24/24 [==============================] - 1s 38ms/step - loss: 0.1041\n",
            "Epoch 37/100\n",
            "24/24 [==============================] - 1s 38ms/step - loss: 0.1018\n",
            "Epoch 38/100\n",
            "24/24 [==============================] - 1s 40ms/step - loss: 0.1023\n",
            "Epoch 39/100\n",
            "24/24 [==============================] - 1s 37ms/step - loss: 0.1026\n",
            "Epoch 40/100\n",
            "24/24 [==============================] - 1s 38ms/step - loss: 0.1034\n",
            "Epoch 41/100\n",
            "24/24 [==============================] - 1s 38ms/step - loss: 0.1013\n",
            "Epoch 42/100\n",
            "24/24 [==============================] - 1s 38ms/step - loss: 0.1045\n",
            "Epoch 43/100\n",
            "24/24 [==============================] - 1s 39ms/step - loss: 0.1029\n",
            "Epoch 44/100\n",
            "24/24 [==============================] - 1s 37ms/step - loss: 0.1035\n",
            "Epoch 45/100\n",
            "24/24 [==============================] - 1s 37ms/step - loss: 0.1038\n",
            "Epoch 46/100\n",
            "24/24 [==============================] - 1s 38ms/step - loss: 0.1018\n",
            "Epoch 47/100\n",
            "24/24 [==============================] - 1s 38ms/step - loss: 0.1019\n",
            "Epoch 48/100\n",
            "24/24 [==============================] - 1s 39ms/step - loss: 0.1025\n",
            "Epoch 49/100\n",
            "24/24 [==============================] - 1s 38ms/step - loss: 0.1037\n",
            "Epoch 50/100\n",
            "24/24 [==============================] - 1s 38ms/step - loss: 0.1019\n",
            "Epoch 51/100\n",
            "24/24 [==============================] - 1s 38ms/step - loss: 0.1040\n",
            "Epoch 52/100\n",
            "24/24 [==============================] - 1s 38ms/step - loss: 0.1023\n",
            "Epoch 53/100\n",
            "24/24 [==============================] - 1s 39ms/step - loss: 0.1005\n",
            "Epoch 54/100\n",
            "24/24 [==============================] - 1s 40ms/step - loss: 0.1005\n",
            "Epoch 55/100\n",
            "24/24 [==============================] - 1s 38ms/step - loss: 0.1029\n",
            "Epoch 56/100\n",
            "24/24 [==============================] - 1s 38ms/step - loss: 0.1017\n",
            "Epoch 57/100\n",
            "24/24 [==============================] - 1s 38ms/step - loss: 0.1029\n",
            "Epoch 58/100\n",
            "24/24 [==============================] - 1s 38ms/step - loss: 0.1010\n",
            "Epoch 59/100\n",
            "24/24 [==============================] - 1s 39ms/step - loss: 0.1010\n",
            "Epoch 60/100\n",
            "24/24 [==============================] - 1s 39ms/step - loss: 0.1029\n",
            "Epoch 61/100\n",
            "24/24 [==============================] - 1s 37ms/step - loss: 0.1021\n",
            "Epoch 62/100\n",
            "24/24 [==============================] - 1s 38ms/step - loss: 0.1012\n",
            "Epoch 63/100\n",
            "24/24 [==============================] - 1s 39ms/step - loss: 0.1013\n",
            "Epoch 64/100\n",
            "24/24 [==============================] - 1s 39ms/step - loss: 0.1019\n",
            "Epoch 65/100\n",
            "24/24 [==============================] - 1s 39ms/step - loss: 0.1011\n",
            "Epoch 66/100\n",
            "24/24 [==============================] - 1s 38ms/step - loss: 0.1030\n",
            "Epoch 67/100\n",
            "24/24 [==============================] - 1s 40ms/step - loss: 0.1021\n",
            "Epoch 68/100\n",
            "24/24 [==============================] - 1s 39ms/step - loss: 0.1014\n",
            "Epoch 69/100\n",
            "24/24 [==============================] - 1s 38ms/step - loss: 0.1014\n",
            "Epoch 70/100\n",
            "24/24 [==============================] - 1s 39ms/step - loss: 0.1017\n",
            "Epoch 71/100\n",
            "24/24 [==============================] - 1s 38ms/step - loss: 0.0999\n",
            "Epoch 72/100\n",
            "24/24 [==============================] - 1s 39ms/step - loss: 0.1016\n",
            "Epoch 73/100\n",
            "24/24 [==============================] - 1s 38ms/step - loss: 0.1009\n",
            "Epoch 74/100\n",
            "24/24 [==============================] - 1s 38ms/step - loss: 0.1015\n",
            "Epoch 75/100\n",
            "24/24 [==============================] - 1s 38ms/step - loss: 0.0999\n",
            "Epoch 76/100\n",
            "24/24 [==============================] - 1s 40ms/step - loss: 0.1008\n",
            "Epoch 77/100\n",
            "24/24 [==============================] - 1s 41ms/step - loss: 0.1015\n",
            "Epoch 78/100\n",
            "24/24 [==============================] - 1s 41ms/step - loss: 0.1005\n",
            "Epoch 79/100\n",
            "24/24 [==============================] - 1s 37ms/step - loss: 0.0997\n",
            "Epoch 80/100\n",
            "24/24 [==============================] - 1s 39ms/step - loss: 0.1013\n",
            "Epoch 81/100\n",
            "24/24 [==============================] - 1s 37ms/step - loss: 0.1000\n",
            "Epoch 82/100\n",
            "24/24 [==============================] - 1s 38ms/step - loss: 0.1002\n",
            "Epoch 83/100\n",
            "24/24 [==============================] - 1s 38ms/step - loss: 0.1008\n",
            "Epoch 84/100\n",
            "24/24 [==============================] - 1s 38ms/step - loss: 0.1005\n",
            "Epoch 85/100\n",
            "24/24 [==============================] - 1s 38ms/step - loss: 0.1003\n",
            "Epoch 86/100\n",
            "24/24 [==============================] - 1s 39ms/step - loss: 0.1000\n",
            "Epoch 87/100\n",
            "24/24 [==============================] - 1s 37ms/step - loss: 0.0998\n",
            "Epoch 88/100\n",
            "24/24 [==============================] - 1s 38ms/step - loss: 0.1015\n",
            "Epoch 89/100\n",
            "24/24 [==============================] - 1s 38ms/step - loss: 0.1005\n",
            "Epoch 90/100\n",
            "24/24 [==============================] - 1s 38ms/step - loss: 0.0999\n",
            "Epoch 91/100\n",
            "24/24 [==============================] - 1s 39ms/step - loss: 0.1023\n",
            "Epoch 92/100\n",
            "24/24 [==============================] - 1s 38ms/step - loss: 0.0999\n",
            "Epoch 93/100\n",
            "24/24 [==============================] - 1s 38ms/step - loss: 0.1003\n",
            "Epoch 94/100\n",
            "24/24 [==============================] - 1s 38ms/step - loss: 0.0997\n",
            "Epoch 95/100\n",
            "24/24 [==============================] - 1s 40ms/step - loss: 0.1020\n",
            "Epoch 96/100\n",
            "24/24 [==============================] - 1s 38ms/step - loss: 0.1011\n",
            "Epoch 97/100\n",
            "24/24 [==============================] - 1s 38ms/step - loss: 0.1021\n",
            "Epoch 98/100\n",
            "24/24 [==============================] - 1s 38ms/step - loss: 0.1013\n",
            "Epoch 99/100\n",
            "24/24 [==============================] - 1s 38ms/step - loss: 0.1029\n",
            "Epoch 100/100\n",
            "24/24 [==============================] - 1s 37ms/step - loss: 0.1008\n"
          ],
          "name": "stdout"
        }
      ]
    },
    {
      "cell_type": "code",
      "metadata": {
        "id": "DEuf782VSSkU",
        "colab_type": "code",
        "colab": {}
      },
      "source": [
        "data_test = pd.read_excel('drive/My Drive/541/Test_dataset.xlsx')"
      ],
      "execution_count": 36,
      "outputs": []
    },
    {
      "cell_type": "code",
      "metadata": {
        "id": "TTE8yrqCSXRV",
        "colab_type": "code",
        "colab": {
          "base_uri": "https://localhost:8080/",
          "height": 286
        },
        "outputId": "8ec8360f-daf2-482c-bc80-a04c30d007e1"
      },
      "source": [
        "data_test.isna().sum()"
      ],
      "execution_count": 37,
      "outputs": [
        {
          "output_type": "execute_result",
          "data": {
            "text/plain": [
              "City                   0\n",
              "State                  0\n",
              "Type                   2\n",
              "Population [2011]      6\n",
              "Popuation [2001]     501\n",
              "Sex Ratio              5\n",
              "Median Age            13\n",
              "Avg Temp              14\n",
              "SWM                    9\n",
              "Toilets Avl           22\n",
              "Water Purity          19\n",
              "H Index               15\n",
              "Female Population     15\n",
              "# of hospitals        17\n",
              "Foreign Visitors      17\n",
              "dtype: int64"
            ]
          },
          "metadata": {
            "tags": []
          },
          "execution_count": 37
        }
      ]
    },
    {
      "cell_type": "code",
      "metadata": {
        "id": "mJaOO8XSSe50",
        "colab_type": "code",
        "colab": {}
      },
      "source": [
        "data_test['Population [2011]']=data_test['Population [2011]'].fillna(0)\n",
        "data_test['Popuation [2001]']=data_test['Popuation [2001]'].fillna(0)\n",
        "data_test['Sex Ratio']=data_test['Sex Ratio'].fillna(0)\n",
        "data_test['Median Age']=data_test['Median Age'].fillna(0)\n",
        "data_test['Avg Temp']=data_test['Avg Temp'].fillna(0)\n",
        "data_test['Toilets Avl']=data_test['Toilets Avl'].fillna(0)\n",
        "data_test['Water Purity']=data_test['Water Purity'].fillna(0)\n",
        "data_test['H Index']=data_test['H Index'].fillna(0)\n",
        "data_test['Female Population']=data_test['Female Population'].fillna(0)\n",
        "data_test['# of hospitals']=data_test['# of hospitals'].fillna(0)\n",
        "data_test['Foreign Visitors']=data_test['Foreign Visitors'].fillna(0)\n",
        "data_test['SWM']=data_test['SWM'].fillna(\"ZERO\")\n",
        "data_test['Type']=data_test['Type'].fillna(\"ZERO\")"
      ],
      "execution_count": 38,
      "outputs": []
    },
    {
      "cell_type": "code",
      "metadata": {
        "id": "lF_OI6TRSgC0",
        "colab_type": "code",
        "colab": {
          "base_uri": "https://localhost:8080/",
          "height": 212
        },
        "outputId": "24948c31-26e3-497f-e125-4db77ffd0385"
      },
      "source": [
        "from sklearn import preprocessing \n",
        "label_encoder = preprocessing.LabelEncoder() \n",
        "data_test['City']= label_encoder.fit_transform(data_test['City']) \n",
        "data_test['City'].unique()\n",
        "data_test['State']= label_encoder.fit_transform(data_test['State']) \n",
        "data_test['State'].unique()\n",
        "data_test['Type']= label_encoder.fit_transform(data_test['Type']) \n",
        "data_test['Type'].unique()\n",
        "data_test['SWM']= label_encoder.fit_transform(data_test['SWM']) \n",
        "data_test['SWM'].unique()\n",
        "\n",
        "\n",
        "\n",
        "data_test.head()"
      ],
      "execution_count": 39,
      "outputs": [
        {
          "output_type": "execute_result",
          "data": {
            "text/html": [
              "<div>\n",
              "<style scoped>\n",
              "    .dataframe tbody tr th:only-of-type {\n",
              "        vertical-align: middle;\n",
              "    }\n",
              "\n",
              "    .dataframe tbody tr th {\n",
              "        vertical-align: top;\n",
              "    }\n",
              "\n",
              "    .dataframe thead th {\n",
              "        text-align: right;\n",
              "    }\n",
              "</style>\n",
              "<table border=\"1\" class=\"dataframe\">\n",
              "  <thead>\n",
              "    <tr style=\"text-align: right;\">\n",
              "      <th></th>\n",
              "      <th>City</th>\n",
              "      <th>State</th>\n",
              "      <th>Type</th>\n",
              "      <th>Population [2011]</th>\n",
              "      <th>Popuation [2001]</th>\n",
              "      <th>Sex Ratio</th>\n",
              "      <th>Median Age</th>\n",
              "      <th>Avg Temp</th>\n",
              "      <th>SWM</th>\n",
              "      <th>Toilets Avl</th>\n",
              "      <th>Water Purity</th>\n",
              "      <th>H Index</th>\n",
              "      <th>Female Population</th>\n",
              "      <th># of hospitals</th>\n",
              "      <th>Foreign Visitors</th>\n",
              "    </tr>\n",
              "  </thead>\n",
              "  <tbody>\n",
              "    <tr>\n",
              "      <th>0</th>\n",
              "      <td>450</td>\n",
              "      <td>19</td>\n",
              "      <td>24</td>\n",
              "      <td>36774.0</td>\n",
              "      <td>0.0</td>\n",
              "      <td>931.0</td>\n",
              "      <td>23.0</td>\n",
              "      <td>10.0</td>\n",
              "      <td>2</td>\n",
              "      <td>94.0</td>\n",
              "      <td>114.0</td>\n",
              "      <td>0.253390</td>\n",
              "      <td>34237.0</td>\n",
              "      <td>17.0</td>\n",
              "      <td>2769.0</td>\n",
              "    </tr>\n",
              "    <tr>\n",
              "      <th>1</th>\n",
              "      <td>69</td>\n",
              "      <td>12</td>\n",
              "      <td>26</td>\n",
              "      <td>36754.0</td>\n",
              "      <td>0.0</td>\n",
              "      <td>934.0</td>\n",
              "      <td>25.0</td>\n",
              "      <td>38.0</td>\n",
              "      <td>0</td>\n",
              "      <td>62.0</td>\n",
              "      <td>160.0</td>\n",
              "      <td>0.192555</td>\n",
              "      <td>34328.0</td>\n",
              "      <td>13.0</td>\n",
              "      <td>636502.0</td>\n",
              "    </tr>\n",
              "    <tr>\n",
              "      <th>2</th>\n",
              "      <td>495</td>\n",
              "      <td>21</td>\n",
              "      <td>13</td>\n",
              "      <td>36732.0</td>\n",
              "      <td>0.0</td>\n",
              "      <td>883.0</td>\n",
              "      <td>29.0</td>\n",
              "      <td>35.0</td>\n",
              "      <td>0</td>\n",
              "      <td>63.0</td>\n",
              "      <td>105.0</td>\n",
              "      <td>0.887882</td>\n",
              "      <td>32434.0</td>\n",
              "      <td>17.0</td>\n",
              "      <td>242367.0</td>\n",
              "    </tr>\n",
              "    <tr>\n",
              "      <th>3</th>\n",
              "      <td>490</td>\n",
              "      <td>15</td>\n",
              "      <td>12</td>\n",
              "      <td>36706.0</td>\n",
              "      <td>0.0</td>\n",
              "      <td>887.0</td>\n",
              "      <td>26.0</td>\n",
              "      <td>31.0</td>\n",
              "      <td>0</td>\n",
              "      <td>60.0</td>\n",
              "      <td>174.0</td>\n",
              "      <td>0.407838</td>\n",
              "      <td>32558.0</td>\n",
              "      <td>11.0</td>\n",
              "      <td>4408916.0</td>\n",
              "    </tr>\n",
              "    <tr>\n",
              "      <th>4</th>\n",
              "      <td>432</td>\n",
              "      <td>26</td>\n",
              "      <td>18</td>\n",
              "      <td>36669.0</td>\n",
              "      <td>0.0</td>\n",
              "      <td>877.0</td>\n",
              "      <td>28.0</td>\n",
              "      <td>39.0</td>\n",
              "      <td>1</td>\n",
              "      <td>92.0</td>\n",
              "      <td>153.0</td>\n",
              "      <td>0.324456</td>\n",
              "      <td>32159.0</td>\n",
              "      <td>23.0</td>\n",
              "      <td>3104060.0</td>\n",
              "    </tr>\n",
              "  </tbody>\n",
              "</table>\n",
              "</div>"
            ],
            "text/plain": [
              "   City  State  Type  ...  Female Population  # of hospitals  Foreign Visitors\n",
              "0   450     19    24  ...            34237.0            17.0            2769.0\n",
              "1    69     12    26  ...            34328.0            13.0          636502.0\n",
              "2   495     21    13  ...            32434.0            17.0          242367.0\n",
              "3   490     15    12  ...            32558.0            11.0         4408916.0\n",
              "4   432     26    18  ...            32159.0            23.0         3104060.0\n",
              "\n",
              "[5 rows x 15 columns]"
            ]
          },
          "metadata": {
            "tags": []
          },
          "execution_count": 39
        }
      ]
    },
    {
      "cell_type": "code",
      "metadata": {
        "id": "oxohYP46SmAb",
        "colab_type": "code",
        "colab": {}
      },
      "source": [
        "\n",
        "cases1 = data_test.iloc[:, 1:14].values"
      ],
      "execution_count": 40,
      "outputs": []
    },
    {
      "cell_type": "code",
      "metadata": {
        "id": "3nW99ZwASrer",
        "colab_type": "code",
        "colab": {}
      },
      "source": [
        "data_total1 = data['Covid Cases']\n",
        "inputs1 = data_total1[len(data_total1) - len(data_test) - 60:].values  # values for making this a numpy array\n",
        "\n",
        "# Reshaping\n",
        "inputs1 = inputs1.reshape(-1,1)"
      ],
      "execution_count": 41,
      "outputs": []
    },
    {
      "cell_type": "code",
      "metadata": {
        "id": "USVrC0b4SwOx",
        "colab_type": "code",
        "colab": {}
      },
      "source": [
        "inputs1= sc.transform(inputs1)"
      ],
      "execution_count": 42,
      "outputs": []
    },
    {
      "cell_type": "code",
      "metadata": {
        "id": "tHoPHqaUS1Qn",
        "colab_type": "code",
        "colab": {}
      },
      "source": [
        "x_test1= [inputs1[i-60:i, 0] for i in range(60, 80)]    \n",
        "x_test1 = np.array(x_test1)"
      ],
      "execution_count": 43,
      "outputs": []
    },
    {
      "cell_type": "code",
      "metadata": {
        "id": "5QrBH0yeS55f",
        "colab_type": "code",
        "colab": {}
      },
      "source": [
        "x_test1 = np.reshape(x_test1, (x_test1.shape[0], x_test1.shape[1], 1))"
      ],
      "execution_count": 44,
      "outputs": []
    },
    {
      "cell_type": "code",
      "metadata": {
        "id": "NPRVpcOOTArP",
        "colab_type": "code",
        "colab": {
          "base_uri": "https://localhost:8080/",
          "height": 54
        },
        "outputId": "298ad066-ea2c-4002-b283-88f06f56afc6"
      },
      "source": [
        "predicted_cases1 = rnn_regressor.predict(x_test1)"
      ],
      "execution_count": 45,
      "outputs": [
        {
          "output_type": "stream",
          "text": [
            "WARNING:tensorflow:Model was constructed with shape (None, 16, 1) for input Tensor(\"lstm_input:0\", shape=(None, 16, 1), dtype=float32), but it was called on an input with incompatible shape (None, 60, 1).\n"
          ],
          "name": "stdout"
        }
      ]
    },
    {
      "cell_type": "code",
      "metadata": {
        "id": "fH8UKQ-bTGxh",
        "colab_type": "code",
        "colab": {}
      },
      "source": [
        "predicted_cases1 = sc.inverse_transform(predicted_cases1)"
      ],
      "execution_count": 46,
      "outputs": []
    },
    {
      "cell_type": "markdown",
      "metadata": {
        "id": "RCRaPGt7Xl4q",
        "colab_type": "text"
      },
      "source": [
        "Output 2 : Predicted Cases "
      ]
    },
    {
      "cell_type": "code",
      "metadata": {
        "id": "kOhT3quxTN_Y",
        "colab_type": "code",
        "colab": {
          "base_uri": "https://localhost:8080/",
          "height": 350
        },
        "outputId": "edcaf6df-6370-4851-8abe-3cdce9d8cf95"
      },
      "source": [
        "plt.figure(figsize=(16, 5))\n",
        "plt.plot(cases1, color = 'green', label = 'Cases of OCT1')\n",
        "plt.plot(predicted_cases1, color = 'blue', label = 'Predicted_cases of OCT1')\n",
        "plt.title('Covid case Prediction')\n",
        "plt.xlabel('foreign visitors')\n",
        "plt.ylabel('Cases')\n",
        "plt.legend(loc='upper left')\n",
        "plt.show()"
      ],
      "execution_count": 47,
      "outputs": [
        {
          "output_type": "display_data",
          "data": {
            "image/png": "[encoded data removed]",
            "text/plain": [
              "<Figure size 1152x360 with 1 Axes>"
            ]
          },
          "metadata": {
            "tags": [],
            "needs_background": "light"
          }
        }
      ]
    }
  ]
}